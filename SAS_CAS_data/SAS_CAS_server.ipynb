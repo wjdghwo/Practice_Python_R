{
  "cells": [
    {
      "cell_type": "markdown",
      "source": [
        "#SAS CAS(Cloud Analytic Services)\n",
        "\n",
        "SAS Cloud Analytic Services(CAS 서버)는 단일 컴퓨터 또는 여러 컴퓨터에서의 SAS Analytics 고성능 분산 처리 기술이 발전하는 과정에서 출시된 차세대 SAS 제품입니다.\n",
        "\n",
        "\n",
        "다음 리스트에서는 CAS Server(Viya 플랫폼에서 모든 분석 워크로드를 처리하는 데 사용되는 엔진)가 SAS LASR Analytic Server(9.4 플랫폼의 SAS Visual 분석에서 사용하는 인메모리 엔진)와 어떻게 다른지 보여 줍니다.\n",
        "\n",
        "\n",
        "- CAS 서버의 내결함성 기능은 노드가 더 이상 작동하지 않으면 이를 감지하고 해당 노드의 작업을 다른 노드로 분산합니다.\n",
        "- 서버 프로세스가 아닌 CAS 서버 세션에서 처리하므로 CAS 세션 모니터링, 리소스 추적 및 리소스 관리가 가능합니다.\n",
        "- In-Memory 테이블은 로컬(세션) 범위나 글로벌 범위를 가질 수 있습니다.\n",
        "- 메모리 용량을 초과하더라도 CAS 서버가 테이블을 처리할 수 있습니다.\n",
        "- CAS 서버는 Python, Lua, Java 및 REST API와 같은 타사 소프트웨어와 상호 작용합니다.\n",
        "- 모든 테이블 작업이 caslib에서 수행됩니다. caslib는 테이블, 액세스 컨트롤 리스트 및 데이터 소스 정보를 보관하는 In-Memory 공간입니다.\n",
        "- PROC CASUTIL은 테이블 로드 및 저장을 포함하여 CAS 서버 테이블을 관리하기 위한 새로운 프로시저입니다. 테이블의 데이터는 직렬 또는 병렬로 로드될 수 있습니다.\n",
        "- SAS 9의 CHARACTER 데이터 유형은 바이트 의미를 사용하고 고정 너비를 지원합니다. CAS 서버는 문자 의미 및 다양한 길이의 변수를 사용하는 VARCHAR 데이터 유형을 지원합니다.\n",
        "- SAS LASR Analytic Server와 유사하게 기본 작업 단위는 액션이며 이는 단일 작업(task)을 수행합니다. PROC CAS 및 CAS 언어(CASL)를 사용하거나 타사 소프트웨어를 사용하여 CAS 서버에서 작업을 실행할 수 있습니다.\n",
        "- 다중 코어 또는 서버 노드에서 병렬 처리를 위해 SAS Analytic 프로시저와 DATA 스텝이 다시 작성되었습니다. DATA 스텝에는 몇 가지 언어 요소 제한이 있습니다.\n",
        "- DS2 및 FedSQL은 CAS 서버에서 실행됩니다. FedSQL에는 몇 가지 제한이 있습니다.\n",
        "- CAS 서버에서는 카탈로그가 지원되지 않습니다. 사용자 정의 출력형식을 지원하기 위해 caslib에 출력형식 라이브러리가 연결됩니다.\n",
        "- PRINT 프로시저와 같은 몇몇 유틸리티 프로시저는 CAS 서버에서 데이터를 가져와 처리하지만 SAS Workspace Server에서 실행됩니다.\n",
        "\n",
        "    - [SAS 공식문서1](https://documentation.sas.com/doc/ko/whatsnew/9.4_3.4/p0v1k3bqe0s1mdn1unuembj63014.htm)\n",
        "    - [SAS 공식문서2](https://documentation.sas.com/doc/ko/pgmsascdc/9.4_3.4/casfun/titlepage.htm)"
      ],
      "metadata": {
        "id": "NUb66ub_fX8d"
      }
    },
    {
      "cell_type": "markdown",
      "source": [
        "## 서버연결"
      ],
      "metadata": {
        "id": "49gKIwgTiI23"
      }
    },
    {
      "cell_type": "code",
      "execution_count": null,
      "metadata": {
        "id": "Cux_6grsfVTK",
        "outputId": "5ea28bd8-93c6-4907-b768-3d6fa6d495b4"
      },
      "outputs": [
        {
          "data": {
            "text/plain": [
              "CAS('13.124.157.75', 8777, 'viyademo01', protocol='http', name='py-session-1', session='b929a802-2919-2d4d-b93a-2a39bf850a98')"
            ]
          },
          "execution_count": 1,
          "metadata": {},
          "output_type": "execute_result"
        }
      ],
      "source": [
        "import swat\n",
        "# import dlpy\n",
        "\n",
        "conn = swat.CAS(hostname='http://13.124.157.75/cas-shared-default-http/', port=8777) #접속 주소\n",
        "conn"
      ]
    },
    {
      "cell_type": "code",
      "execution_count": null,
      "metadata": {
        "id": "DhRh_YOyfVTO",
        "outputId": "aacd0f9d-5ad6-4d58-fa64-6169e13d8d16"
      },
      "outputs": [
        {
          "name": "stdout",
          "output_type": "stream",
          "text": [
            "NOTE: Grid node action status report: 4 nodes, 56 total actions executed.\n"
          ]
        }
      ],
      "source": [
        "r = conn.serverstatus()"
      ]
    },
    {
      "cell_type": "code",
      "execution_count": null,
      "metadata": {
        "id": "WPBI_ttDfVTO",
        "outputId": "6a254a2a-2b96-461e-8e5f-24f84f343992"
      },
      "outputs": [
        {
          "data": {
            "text/plain": [
              "swat.cas.results.CASResults"
            ]
          },
          "execution_count": 5,
          "metadata": {},
          "output_type": "execute_result"
        }
      ],
      "source": [
        "type(r)"
      ]
    },
    {
      "cell_type": "code",
      "execution_count": null,
      "metadata": {
        "id": "rhr874mmfVTP",
        "outputId": "0da90bcb-8f25-4348-af4b-f744cea6b6fb"
      },
      "outputs": [
        {
          "data": {
            "text/plain": [
              "True"
            ]
          },
          "execution_count": 6,
          "metadata": {},
          "output_type": "execute_result"
        }
      ],
      "source": [
        "isinstance(r, dict) #type 확인"
      ]
    },
    {
      "cell_type": "markdown",
      "metadata": {
        "id": "L9nLfnDifVTP"
      },
      "source": [
        "CAS 서버에선 데이터가 DICT 형태로 저장됨\n"
      ]
    },
    {
      "cell_type": "code",
      "execution_count": null,
      "metadata": {
        "id": "RlcZQPsMfVTR",
        "outputId": "21eecbc7-938b-4803-c915-1dcbaf1c7d20"
      },
      "outputs": [
        {
          "data": {
            "text/plain": [
              "odict_keys(['About', 'nodestatus', 'server'])"
            ]
          },
          "execution_count": 9,
          "metadata": {},
          "output_type": "execute_result"
        }
      ],
      "source": [
        "r.keys()"
      ]
    },
    {
      "cell_type": "code",
      "execution_count": null,
      "metadata": {
        "id": "svfjFS65fVTS",
        "outputId": "d5198fab-d2a1-4610-b6eb-485dc6537eda"
      },
      "outputs": [
        {
          "data": {
            "text/plain": [
              "{'CAS': 'Cloud Analytic Services',\n",
              " 'Copyright': 'Copyright Â© 2014-2018 SAS Institute Inc. All Rights Reserved.',\n",
              " 'ServerTime': '2022-10-19T05:10:13Z',\n",
              " 'System': {'Hostname': 'casc.sas.com',\n",
              "  'Linux Distribution': 'Red Hat Enterprise Linux Server release 7.6 (Maipo)',\n",
              "  'Model Number': 'x86_64',\n",
              "  'OS Family': 'LIN X64',\n",
              "  'OS Name': 'Linux',\n",
              "  'OS Release': '3.10.0-957.12.2.el7.x86_64',\n",
              "  'OS Version': '#1 SMP Fri Apr 19 21:09:07 UTC 2019'},\n",
              " 'Version': '3.05',\n",
              " 'VersionLong': 'V.03.05M0P11062019',\n",
              " 'license': {'expires': '12Apr2023:00:00:00',\n",
              "  'gracePeriod': 45,\n",
              "  'site': 'INTERNAL_TEST_MPP_FULL',\n",
              "  'siteNum': 70180938,\n",
              "  'warningPeriod': 45}}"
            ]
          },
          "execution_count": 10,
          "metadata": {},
          "output_type": "execute_result"
        }
      ],
      "source": [
        "r['About']"
      ]
    },
    {
      "cell_type": "markdown",
      "source": [
        "내부 항목을 볼 땐 dict처럼 [''] 기호 사용하며 결과는 CAS 서버내에서 모두 key 역할을 하게 된다"
      ],
      "metadata": {
        "id": "NclLhQcait5k"
      }
    },
    {
      "cell_type": "code",
      "execution_count": null,
      "metadata": {
        "id": "6SIrVXfAfVTT",
        "outputId": "9b3d883e-5e2b-41ec-eae8-6275a3598d21"
      },
      "outputs": [
        {
          "data": {
            "text/plain": [
              "[['About', dict],\n",
              " ['nodestatus', swat.dataframe.SASDataFrame],\n",
              " ['server', swat.dataframe.SASDataFrame]]"
            ]
          },
          "execution_count": 11,
          "metadata": {},
          "output_type": "execute_result"
        }
      ],
      "source": [
        "[[key, type(value)] for key, value in r.items()]"
      ]
    },
    {
      "cell_type": "markdown",
      "metadata": {
        "id": "TE51dQlcfVTT"
      },
      "source": [
        "CAS서버내 데이터는 swat.dataframe.SASDataFrame 형태이며 pandas Dataframe이랑 유사하다"
      ]
    },
    {
      "cell_type": "code",
      "execution_count": null,
      "metadata": {
        "scrolled": true,
        "id": "1Pl1cmmIfVTU",
        "outputId": "52689c21-f2f1-4525-88bf-9a2ebfb85c4b"
      },
      "outputs": [
        {
          "data": {
            "text/plain": [
              "['__class__',\n",
              " '__contains__',\n",
              " '__delattr__',\n",
              " '__delitem__',\n",
              " '__dict__',\n",
              " '__dir__',\n",
              " '__doc__',\n",
              " '__eq__',\n",
              " '__format__',\n",
              " '__ge__',\n",
              " '__getattr__',\n",
              " '__getattribute__',\n",
              " '__getitem__',\n",
              " '__gt__',\n",
              " '__hash__',\n",
              " '__init__',\n",
              " '__init_subclass__',\n",
              " '__iter__',\n",
              " '__le__',\n",
              " '__len__',\n",
              " '__lt__',\n",
              " '__module__',\n",
              " '__ne__',\n",
              " '__new__',\n",
              " '__reduce__',\n",
              " '__reduce_ex__',\n",
              " '__repr__',\n",
              " '__reversed__',\n",
              " '__setattr__',\n",
              " '__setitem__',\n",
              " '__sizeof__',\n",
              " '__str__',\n",
              " '__subclasshook__',\n",
              " '__weakref__',\n",
              " '_make_byline',\n",
              " '_performance_str_',\n",
              " '_render_html_',\n",
              " '_repr_html_',\n",
              " '_repr_pretty_',\n",
              " '_z_show_',\n",
              " 'clear',\n",
              " 'concat_bygroups',\n",
              " 'copy',\n",
              " 'debug',\n",
              " 'events',\n",
              " 'fromkeys',\n",
              " 'get',\n",
              " 'get_group',\n",
              " 'get_set',\n",
              " 'get_tables',\n",
              " 'items',\n",
              " 'keys',\n",
              " 'messages',\n",
              " 'move_to_end',\n",
              " 'performance',\n",
              " 'pop',\n",
              " 'popitem',\n",
              " 'reason',\n",
              " 'session',\n",
              " 'sessionname',\n",
              " 'setdefault',\n",
              " 'severity',\n",
              " 'signature',\n",
              " 'status',\n",
              " 'status_code',\n",
              " 'update',\n",
              " 'updateflags',\n",
              " 'values']"
            ]
          },
          "execution_count": 12,
          "metadata": {},
          "output_type": "execute_result"
        }
      ],
      "source": [
        "dir(r)"
      ]
    },
    {
      "cell_type": "markdown",
      "metadata": {
        "id": "zT0vucDzfVTU"
      },
      "source": [
        "##CAS library\n",
        "\n",
        "- 인메모리 영역(테이블) + 피지컬 파일 영역(file)\n",
        "\n",
        "- SAS는 CAS library에만 테이블을 저장할 수 있고 library를 통해 파일 접근 가능\n",
        "\n",
        "디렉토리 이름이 길기 때문에 CAS library를 바로 사용 가능"
      ]
    },
    {
      "cell_type": "code",
      "execution_count": null,
      "metadata": {
        "scrolled": true,
        "id": "QO5O3Q5IfVTV",
        "outputId": "cf6c282e-cdcc-4e83-edc3-ec68eb70e34c"
      },
      "outputs": [
        {
          "data": {
            "text/html": [
              "<div class=\"cas-results-key\"><b>&#167; CASLibInfo</b></div>\n",
              "<div class=\"cas-results-body\">\n",
              "<div>\n",
              "<style scoped>\n",
              "    .dataframe tbody tr th:only-of-type {\n",
              "        vertical-align: middle;\n",
              "    }\n",
              "\n",
              "    .dataframe tbody tr th {\n",
              "        vertical-align: top;\n",
              "    }\n",
              "\n",
              "    .dataframe thead th {\n",
              "        text-align: right;\n",
              "    }\n",
              "</style>\n",
              "<table border=\"1\" class=\"dataframe\">\n",
              "  <thead>\n",
              "    <tr style=\"text-align: right;\">\n",
              "      <th title=\"\"></th>\n",
              "      <th title=\"Name\">Name</th>\n",
              "      <th title=\"Type\">Type</th>\n",
              "      <th title=\"Description\">Description</th>\n",
              "      <th title=\"Path\">Path</th>\n",
              "      <th title=\"Definition\">Definition</th>\n",
              "      <th title=\"Subdirs\">Subdirs</th>\n",
              "      <th title=\"Local\">Local</th>\n",
              "      <th title=\"Active\">Active</th>\n",
              "      <th title=\"Personal\">Personal</th>\n",
              "      <th title=\"Hidden\">Hidden</th>\n",
              "      <th title=\"Transient\">Transient</th>\n",
              "    </tr>\n",
              "  </thead>\n",
              "  <tbody>\n",
              "    <tr>\n",
              "      <td>0</td>\n",
              "      <td>AdaptiveLearningData</td>\n",
              "      <td>PATH</td>\n",
              "      <td>Stores historical and learning tables created ...</td>\n",
              "      <td>/opt/sas/viya/config/data/cas/default/adaptive...</td>\n",
              "      <td></td>\n",
              "      <td>0.0</td>\n",
              "      <td>0.0</td>\n",
              "      <td>0.0</td>\n",
              "      <td>0.0</td>\n",
              "      <td>0.0</td>\n",
              "      <td>0.0</td>\n",
              "    </tr>\n",
              "    <tr>\n",
              "      <td>1</td>\n",
              "      <td>AdaptiveLearningStore</td>\n",
              "      <td>PATH</td>\n",
              "      <td>Stores model analytic stores created by Adapti...</td>\n",
              "      <td>/opt/sas/viya/config/data/cas/default/adaptive...</td>\n",
              "      <td></td>\n",
              "      <td>0.0</td>\n",
              "      <td>0.0</td>\n",
              "      <td>0.0</td>\n",
              "      <td>0.0</td>\n",
              "      <td>0.0</td>\n",
              "      <td>0.0</td>\n",
              "    </tr>\n",
              "    <tr>\n",
              "      <td>2</td>\n",
              "      <td>CASORA</td>\n",
              "      <td>oracle</td>\n",
              "      <td></td>\n",
              "      <td></td>\n",
              "      <td>uid = 'lgdpoc'</td>\n",
              "      <td>0.0</td>\n",
              "      <td>0.0</td>\n",
              "      <td>0.0</td>\n",
              "      <td>0.0</td>\n",
              "      <td>0.0</td>\n",
              "      <td>0.0</td>\n",
              "    </tr>\n",
              "    <tr>\n",
              "      <td>3</td>\n",
              "      <td>CASUSER(viyademo01)</td>\n",
              "      <td>PATH</td>\n",
              "      <td>Personal File System Caslib</td>\n",
              "      <td>/home/viyademo01/casuser/</td>\n",
              "      <td></td>\n",
              "      <td>1.0</td>\n",
              "      <td>0.0</td>\n",
              "      <td>0.0</td>\n",
              "      <td>1.0</td>\n",
              "      <td>0.0</td>\n",
              "      <td>1.0</td>\n",
              "    </tr>\n",
              "    <tr>\n",
              "      <td>4</td>\n",
              "      <td>CASUSERHDFS(viyademo01)</td>\n",
              "      <td>HDFS</td>\n",
              "      <td>Personal HDFS Caslib</td>\n",
              "      <td>/user/viyademo01/</td>\n",
              "      <td></td>\n",
              "      <td>1.0</td>\n",
              "      <td>0.0</td>\n",
              "      <td>1.0</td>\n",
              "      <td>1.0</td>\n",
              "      <td>0.0</td>\n",
              "      <td>1.0</td>\n",
              "    </tr>\n",
              "    <tr>\n",
              "      <td>5</td>\n",
              "      <td>CPSAppData</td>\n",
              "      <td>PATH</td>\n",
              "      <td>Stores data for the planning service.</td>\n",
              "      <td>/opt/sas/viya/config/data/cas/default/cpsAppData/</td>\n",
              "      <td></td>\n",
              "      <td>0.0</td>\n",
              "      <td>0.0</td>\n",
              "      <td>0.0</td>\n",
              "      <td>0.0</td>\n",
              "      <td>0.0</td>\n",
              "      <td>0.0</td>\n",
              "    </tr>\n",
              "    <tr>\n",
              "      <td>6</td>\n",
              "      <td>Formats</td>\n",
              "      <td>PATH</td>\n",
              "      <td>Stores user defined formats.</td>\n",
              "      <td>/opt/sas/viya/config/data/cas/default/formats/</td>\n",
              "      <td></td>\n",
              "      <td>0.0</td>\n",
              "      <td>0.0</td>\n",
              "      <td>0.0</td>\n",
              "      <td>0.0</td>\n",
              "      <td>0.0</td>\n",
              "      <td>0.0</td>\n",
              "    </tr>\n",
              "    <tr>\n",
              "      <td>7</td>\n",
              "      <td>kal_source</td>\n",
              "      <td>PATH</td>\n",
              "      <td></td>\n",
              "      <td>/home/viyademo20/KAL_VTA/Data/</td>\n",
              "      <td></td>\n",
              "      <td>0.0</td>\n",
              "      <td>0.0</td>\n",
              "      <td>0.0</td>\n",
              "      <td>0.0</td>\n",
              "      <td>0.0</td>\n",
              "      <td>0.0</td>\n",
              "    </tr>\n",
              "    <tr>\n",
              "      <td>8</td>\n",
              "      <td>ModelPerformanceData</td>\n",
              "      <td>PATH</td>\n",
              "      <td>Library for Model Management performance objects.</td>\n",
              "      <td>/opt/sas/viya/config/data/cas/default/modelMon...</td>\n",
              "      <td></td>\n",
              "      <td>0.0</td>\n",
              "      <td>0.0</td>\n",
              "      <td>0.0</td>\n",
              "      <td>0.0</td>\n",
              "      <td>0.0</td>\n",
              "      <td>0.0</td>\n",
              "    </tr>\n",
              "    <tr>\n",
              "      <td>9</td>\n",
              "      <td>Models</td>\n",
              "      <td>PATH</td>\n",
              "      <td>Stores models created by Visual Analytics for ...</td>\n",
              "      <td>/opt/sas/viya/config/data/cas/default/models/</td>\n",
              "      <td></td>\n",
              "      <td>0.0</td>\n",
              "      <td>0.0</td>\n",
              "      <td>0.0</td>\n",
              "      <td>0.0</td>\n",
              "      <td>0.0</td>\n",
              "      <td>0.0</td>\n",
              "    </tr>\n",
              "    <tr>\n",
              "      <td>10</td>\n",
              "      <td>MYCAS</td>\n",
              "      <td>PATH</td>\n",
              "      <td></td>\n",
              "      <td>/data/ldhome/sasdemo01/</td>\n",
              "      <td></td>\n",
              "      <td>0.0</td>\n",
              "      <td>0.0</td>\n",
              "      <td>0.0</td>\n",
              "      <td>0.0</td>\n",
              "      <td>0.0</td>\n",
              "      <td>0.0</td>\n",
              "    </tr>\n",
              "    <tr>\n",
              "      <td>11</td>\n",
              "      <td>Public</td>\n",
              "      <td>PATH</td>\n",
              "      <td>Shared and writeable caslib, accessible to all...</td>\n",
              "      <td>/opt/sas/viya/config/data/cas/default/public/</td>\n",
              "      <td></td>\n",
              "      <td>0.0</td>\n",
              "      <td>0.0</td>\n",
              "      <td>0.0</td>\n",
              "      <td>0.0</td>\n",
              "      <td>0.0</td>\n",
              "      <td>0.0</td>\n",
              "    </tr>\n",
              "    <tr>\n",
              "      <td>12</td>\n",
              "      <td>QASMartStore</td>\n",
              "      <td>PATH</td>\n",
              "      <td>Stores quality analytic suite mart tables.</td>\n",
              "      <td>/opt/sas/viya/config/data/cas/default/qasMartS...</td>\n",
              "      <td></td>\n",
              "      <td>0.0</td>\n",
              "      <td>0.0</td>\n",
              "      <td>0.0</td>\n",
              "      <td>0.0</td>\n",
              "      <td>0.0</td>\n",
              "      <td>0.0</td>\n",
              "    </tr>\n",
              "    <tr>\n",
              "      <td>13</td>\n",
              "      <td>Samples</td>\n",
              "      <td>PATH</td>\n",
              "      <td>Stores sample data, supplied by SAS.</td>\n",
              "      <td>/opt/sas/viya/config/data/cas/default/samples/</td>\n",
              "      <td></td>\n",
              "      <td>0.0</td>\n",
              "      <td>0.0</td>\n",
              "      <td>0.0</td>\n",
              "      <td>0.0</td>\n",
              "      <td>0.0</td>\n",
              "      <td>0.0</td>\n",
              "    </tr>\n",
              "    <tr>\n",
              "      <td>14</td>\n",
              "      <td>svi_default</td>\n",
              "      <td>PATH</td>\n",
              "      <td></td>\n",
              "      <td>/opt/sas/viya/config/data/cas/default/svi_defa...</td>\n",
              "      <td></td>\n",
              "      <td>1.0</td>\n",
              "      <td>0.0</td>\n",
              "      <td>0.0</td>\n",
              "      <td>0.0</td>\n",
              "      <td>0.0</td>\n",
              "      <td>0.0</td>\n",
              "    </tr>\n",
              "    <tr>\n",
              "      <td>15</td>\n",
              "      <td>SystemData</td>\n",
              "      <td>PATH</td>\n",
              "      <td>Stores application generated data, used for ge...</td>\n",
              "      <td>/opt/sas/viya/config/data/cas/default/sysData/</td>\n",
              "      <td></td>\n",
              "      <td>0.0</td>\n",
              "      <td>0.0</td>\n",
              "      <td>0.0</td>\n",
              "      <td>0.0</td>\n",
              "      <td>0.0</td>\n",
              "      <td>0.0</td>\n",
              "    </tr>\n",
              "  </tbody>\n",
              "</table>\n",
              "</div>\n",
              "</div>\n",
              "<div class=\"cas-output-area\"></div>\n",
              "<p class=\"cas-results-performance\"><small><span class=\"cas-elapsed\">elapsed 0.00894s</span> &#183; <span class=\"cas-user\">user 0.000904s</span> &#183; <span class=\"cas-sys\">sys 0.00695s</span> &#183; <span class=\"cas-memory\">mem 1.54MB</span></small></p>"
            ],
            "text/plain": [
              "[CASLibInfo]\n",
              "\n",
              "                        Name    Type  \\\n",
              " 0      AdaptiveLearningData    PATH   \n",
              " 1     AdaptiveLearningStore    PATH   \n",
              " 2                    CASORA  oracle   \n",
              " 3       CASUSER(viyademo01)    PATH   \n",
              " 4   CASUSERHDFS(viyademo01)    HDFS   \n",
              " 5                CPSAppData    PATH   \n",
              " 6                   Formats    PATH   \n",
              " 7                kal_source    PATH   \n",
              " 8      ModelPerformanceData    PATH   \n",
              " 9                    Models    PATH   \n",
              " 10                    MYCAS    PATH   \n",
              " 11                   Public    PATH   \n",
              " 12             QASMartStore    PATH   \n",
              " 13                  Samples    PATH   \n",
              " 14              svi_default    PATH   \n",
              " 15               SystemData    PATH   \n",
              " \n",
              "                                           Description  \\\n",
              " 0   Stores historical and learning tables created ...   \n",
              " 1   Stores model analytic stores created by Adapti...   \n",
              " 2                                                       \n",
              " 3                         Personal File System Caslib   \n",
              " 4                                Personal HDFS Caslib   \n",
              " 5               Stores data for the planning service.   \n",
              " 6                        Stores user defined formats.   \n",
              " 7                                                       \n",
              " 8   Library for Model Management performance objects.   \n",
              " 9   Stores models created by Visual Analytics for ...   \n",
              " 10                                                      \n",
              " 11  Shared and writeable caslib, accessible to all...   \n",
              " 12         Stores quality analytic suite mart tables.   \n",
              " 13               Stores sample data, supplied by SAS.   \n",
              " 14                                                      \n",
              " 15  Stores application generated data, used for ge...   \n",
              " \n",
              "                                                  Path      Definition  \\\n",
              " 0   /opt/sas/viya/config/data/cas/default/adaptive...                   \n",
              " 1   /opt/sas/viya/config/data/cas/default/adaptive...                   \n",
              " 2                                                      uid = 'lgdpoc'   \n",
              " 3                           /home/viyademo01/casuser/                   \n",
              " 4                                   /user/viyademo01/                   \n",
              " 5   /opt/sas/viya/config/data/cas/default/cpsAppData/                   \n",
              " 6      /opt/sas/viya/config/data/cas/default/formats/                   \n",
              " 7                      /home/viyademo20/KAL_VTA/Data/                   \n",
              " 8   /opt/sas/viya/config/data/cas/default/modelMon...                   \n",
              " 9       /opt/sas/viya/config/data/cas/default/models/                   \n",
              " 10                            /data/ldhome/sasdemo01/                   \n",
              " 11      /opt/sas/viya/config/data/cas/default/public/                   \n",
              " 12  /opt/sas/viya/config/data/cas/default/qasMartS...                   \n",
              " 13     /opt/sas/viya/config/data/cas/default/samples/                   \n",
              " 14  /opt/sas/viya/config/data/cas/default/svi_defa...                   \n",
              " 15     /opt/sas/viya/config/data/cas/default/sysData/                   \n",
              " \n",
              "     Subdirs  Local  Active  Personal  Hidden  Transient  \n",
              " 0       0.0    0.0     0.0       0.0     0.0        0.0  \n",
              " 1       0.0    0.0     0.0       0.0     0.0        0.0  \n",
              " 2       0.0    0.0     0.0       0.0     0.0        0.0  \n",
              " 3       1.0    0.0     0.0       1.0     0.0        1.0  \n",
              " 4       1.0    0.0     1.0       1.0     0.0        1.0  \n",
              " 5       0.0    0.0     0.0       0.0     0.0        0.0  \n",
              " 6       0.0    0.0     0.0       0.0     0.0        0.0  \n",
              " 7       0.0    0.0     0.0       0.0     0.0        0.0  \n",
              " 8       0.0    0.0     0.0       0.0     0.0        0.0  \n",
              " 9       0.0    0.0     0.0       0.0     0.0        0.0  \n",
              " 10      0.0    0.0     0.0       0.0     0.0        0.0  \n",
              " 11      0.0    0.0     0.0       0.0     0.0        0.0  \n",
              " 12      0.0    0.0     0.0       0.0     0.0        0.0  \n",
              " 13      0.0    0.0     0.0       0.0     0.0        0.0  \n",
              " 14      1.0    0.0     0.0       0.0     0.0        0.0  \n",
              " 15      0.0    0.0     0.0       0.0     0.0        0.0  \n",
              "\n",
              "+ Elapsed: 0.00894s, user: 0.000904s, sys: 0.00695s, mem: 1.54mb"
            ]
          },
          "execution_count": 14,
          "metadata": {},
          "output_type": "execute_result"
        }
      ],
      "source": [
        "conn.caslibinfo()"
      ]
    },
    {
      "cell_type": "markdown",
      "metadata": {
        "id": "yxXNNIJ1fVTW"
      },
      "source": [
        "Active=1인 CASUSERHDFS(viyademo01) 디폴트값 (주소)"
      ]
    },
    {
      "cell_type": "code",
      "execution_count": null,
      "metadata": {
        "id": "ZAbiJjE6fVTX",
        "outputId": "b151b5ac-3d43-40d3-9f07-4f690e25e47d"
      },
      "outputs": [
        {
          "name": "stdout",
          "output_type": "stream",
          "text": [
            "NOTE: No tables are available in caslib CASUSERHDFS(viyademo01) of Cloud Analytic Services.\n"
          ]
        },
        {
          "data": {
            "text/html": [
              "<div class=\"cas-output-area\"></div>\n",
              "<p class=\"cas-results-performance\"><small><span class=\"cas-elapsed\">elapsed 0.00874s</span> &#183; <span class=\"cas-user\">user 0.0024s</span> &#183; <span class=\"cas-sys\">sys 0.00541s</span> &#183; <span class=\"cas-memory\">mem 1.14MB</span></small></p>"
            ],
            "text/plain": [
              "+ Elapsed: 0.00874s, user: 0.0024s, sys: 0.00541s, mem: 1.14mb"
            ]
          },
          "execution_count": 15,
          "metadata": {},
          "output_type": "execute_result"
        }
      ],
      "source": [
        "#메모리확인\n",
        "conn.tableinfo()"
      ]
    },
    {
      "cell_type": "code",
      "execution_count": null,
      "metadata": {
        "id": "5fTNzGDIfVTX",
        "outputId": "7d8a8889-3f54-4ae6-e9b3-26fad925ce21"
      },
      "outputs": [
        {
          "name": "stdout",
          "output_type": "stream",
          "text": [
            "ERROR: Could not connect to the Hadoop cluster.\n",
            "ERROR: The action stopped due to errors.\n"
          ]
        },
        {
          "data": {
            "text/html": [
              "<div class=\"cas-output-area\"></div>\n",
              "<p class=\"cas-results-performance\"><small><span class=\"cas-elapsed\">elapsed 0.0178s</span> &#183; <span class=\"cas-user\">user 0.00647s</span> &#183; <span class=\"cas-sys\">sys 0.00466s</span> &#183; <span class=\"cas-memory\">mem 1.14MB</span></small></p>"
            ],
            "text/plain": [
              "+ Elapsed: 0.0178s, user: 0.00647s, sys: 0.00466s, mem: 1.14mb"
            ]
          },
          "execution_count": 16,
          "metadata": {},
          "output_type": "execute_result"
        }
      ],
      "source": [
        "# 파일 정보 확인\n",
        "conn.fileinfo()"
      ]
    },
    {
      "cell_type": "markdown",
      "source": [
        "라이브러리 확인 및 데이터를 불러올땐 해당 라이브러리 및 table명 입력"
      ],
      "metadata": {
        "id": "sUPqsGRDkKI2"
      }
    },
    {
      "cell_type": "code",
      "execution_count": null,
      "metadata": {
        "id": "aMYD3fzOfVTY",
        "outputId": "97e15a16-bb89-4768-d655-cae6834aa2f6"
      },
      "outputs": [
        {
          "data": {
            "text/html": [
              "<div class=\"cas-results-key\"><b>&#167; FileInfo</b></div>\n",
              "<div class=\"cas-results-body\">\n",
              "<div>\n",
              "<style scoped>\n",
              "    .dataframe tbody tr th:only-of-type {\n",
              "        vertical-align: middle;\n",
              "    }\n",
              "\n",
              "    .dataframe tbody tr th {\n",
              "        vertical-align: top;\n",
              "    }\n",
              "\n",
              "    .dataframe thead th {\n",
              "        text-align: right;\n",
              "    }\n",
              "</style>\n",
              "<table border=\"1\" class=\"dataframe\">\n",
              "  <thead>\n",
              "    <tr style=\"text-align: right;\">\n",
              "      <th title=\"\"></th>\n",
              "      <th title=\"Permission\">Permission</th>\n",
              "      <th title=\"Owner\">Owner</th>\n",
              "      <th title=\"Group\">Group</th>\n",
              "      <th title=\"Name\">Name</th>\n",
              "      <th title=\"Size of File in Bytes\">Size</th>\n",
              "      <th title=\"Encryption Method\">Encryption</th>\n",
              "      <th title=\"Time\">Time</th>\n",
              "      <th title=\"ModTime\">ModTime</th>\n",
              "    </tr>\n",
              "  </thead>\n",
              "  <tbody>\n",
              "    <tr>\n",
              "      <td>0</td>\n",
              "      <td>-rwxr-xr-x</td>\n",
              "      <td>viyademo01</td>\n",
              "      <td>sasusers</td>\n",
              "      <td>cars.sashdat</td>\n",
              "      <td>80400</td>\n",
              "      <td>NONE</td>\n",
              "      <td>2020-01-08T04:24:50+00:00</td>\n",
              "      <td>1.894077e+09</td>\n",
              "    </tr>\n",
              "    <tr>\n",
              "      <td>1</td>\n",
              "      <td>-rwxr-xr-x</td>\n",
              "      <td>viyademo01</td>\n",
              "      <td>sasusers</td>\n",
              "      <td>forest_model_astore.sashdat</td>\n",
              "      <td>22763888</td>\n",
              "      <td>NONE</td>\n",
              "      <td>2020-01-08T06:30:22+00:00</td>\n",
              "      <td>1.894084e+09</td>\n",
              "    </tr>\n",
              "    <tr>\n",
              "      <td>2</td>\n",
              "      <td>-rw-r--r--</td>\n",
              "      <td>viyademo01</td>\n",
              "      <td>sasusers</td>\n",
              "      <td>buytest.sas7bdat</td>\n",
              "      <td>1966080</td>\n",
              "      <td></td>\n",
              "      <td>2020-07-23T04:18:03+00:00</td>\n",
              "      <td>1.911097e+09</td>\n",
              "    </tr>\n",
              "    <tr>\n",
              "      <td>3</td>\n",
              "      <td>-rw-r--r--</td>\n",
              "      <td>viyademo01</td>\n",
              "      <td>sasusers</td>\n",
              "      <td>EG_DEMO_2.xlsx</td>\n",
              "      <td>380241</td>\n",
              "      <td></td>\n",
              "      <td>2020-07-23T04:25:47+00:00</td>\n",
              "      <td>1.911098e+09</td>\n",
              "    </tr>\n",
              "    <tr>\n",
              "      <td>4</td>\n",
              "      <td>-rwxr-xr-x</td>\n",
              "      <td>viyademo01</td>\n",
              "      <td>sasusers</td>\n",
              "      <td>INSSUBRO_K.sashdat</td>\n",
              "      <td>743640</td>\n",
              "      <td>NONE</td>\n",
              "      <td>2020-10-29T05:33:50+00:00</td>\n",
              "      <td>1.919569e+09</td>\n",
              "    </tr>\n",
              "    <tr>\n",
              "      <td>5</td>\n",
              "      <td>-rwxr-xr-x</td>\n",
              "      <td>viyademo01</td>\n",
              "      <td>sasusers</td>\n",
              "      <td>hmeq_lb.sashdat</td>\n",
              "      <td>632920</td>\n",
              "      <td>NONE</td>\n",
              "      <td>2020-11-24T08:26:02+00:00</td>\n",
              "      <td>1.921826e+09</td>\n",
              "    </tr>\n",
              "    <tr>\n",
              "      <td>6</td>\n",
              "      <td>-rwxr-xr-x</td>\n",
              "      <td>viyademo01</td>\n",
              "      <td>sasusers</td>\n",
              "      <td>tmpScoreData_bc.sashdat</td>\n",
              "      <td>1062816</td>\n",
              "      <td>NONE</td>\n",
              "      <td>2021-10-18T06:02:19+00:00</td>\n",
              "      <td>1.950156e+09</td>\n",
              "    </tr>\n",
              "    <tr>\n",
              "      <td>7</td>\n",
              "      <td>-rwxr-xr-x</td>\n",
              "      <td>viyademo01</td>\n",
              "      <td>sasusers</td>\n",
              "      <td>HMEQ.sashdat</td>\n",
              "      <td>680000</td>\n",
              "      <td>NONE</td>\n",
              "      <td>2022-06-02T06:47:15+00:00</td>\n",
              "      <td>1.969772e+09</td>\n",
              "    </tr>\n",
              "    <tr>\n",
              "      <td>8</td>\n",
              "      <td>-rwxr-xr-x</td>\n",
              "      <td>viyademo01</td>\n",
              "      <td>sasusers</td>\n",
              "      <td>claim.sahdat.sashdat</td>\n",
              "      <td>3361280</td>\n",
              "      <td>NONE</td>\n",
              "      <td>2022-09-02T10:02:23+00:00</td>\n",
              "      <td>1.977732e+09</td>\n",
              "    </tr>\n",
              "    <tr>\n",
              "      <td>9</td>\n",
              "      <td>-rwxr-xr-x</td>\n",
              "      <td>viyademo01</td>\n",
              "      <td>sasusers</td>\n",
              "      <td>claim.sashdat</td>\n",
              "      <td>3361280</td>\n",
              "      <td>NONE</td>\n",
              "      <td>2022-09-02T10:03:30+00:00</td>\n",
              "      <td>1.977732e+09</td>\n",
              "    </tr>\n",
              "    <tr>\n",
              "      <td>10</td>\n",
              "      <td>-rwxr-xr-x</td>\n",
              "      <td>viyademo01</td>\n",
              "      <td>sasusers</td>\n",
              "      <td>trn_missing_model_astore.sashdat</td>\n",
              "      <td>31872</td>\n",
              "      <td>NONE</td>\n",
              "      <td>2022-09-05T08:36:29+00:00</td>\n",
              "      <td>1.977986e+09</td>\n",
              "    </tr>\n",
              "    <tr>\n",
              "      <td>11</td>\n",
              "      <td>-rwxr-xr-x</td>\n",
              "      <td>viyademo01</td>\n",
              "      <td>sasusers</td>\n",
              "      <td>logistic_model_astore.sashdat</td>\n",
              "      <td>2376184</td>\n",
              "      <td>NONE</td>\n",
              "      <td>2022-09-06T05:43:20+00:00</td>\n",
              "      <td>1.978062e+09</td>\n",
              "    </tr>\n",
              "    <tr>\n",
              "      <td>12</td>\n",
              "      <td>-rwxr-xr-x</td>\n",
              "      <td>viyademo01</td>\n",
              "      <td>sasusers</td>\n",
              "      <td>impute_code.sashdat</td>\n",
              "      <td>13472</td>\n",
              "      <td>NONE</td>\n",
              "      <td>2022-10-18T10:25:51+00:00</td>\n",
              "      <td>1.981708e+09</td>\n",
              "    </tr>\n",
              "  </tbody>\n",
              "</table>\n",
              "</div>\n",
              "</div>\n",
              "<div class=\"cas-output-area\"></div>\n",
              "<p class=\"cas-results-performance\"><small><span class=\"cas-elapsed\">elapsed 0.0118s</span> &#183; <span class=\"cas-user\">user 0.00467s</span> &#183; <span class=\"cas-sys\">sys 0.0058s</span> &#183; <span class=\"cas-memory\">mem 1.53MB</span></small></p>"
            ],
            "text/plain": [
              "[FileInfo]\n",
              "\n",
              "     Permission       Owner     Group                              Name  \\\n",
              " 0   -rwxr-xr-x  viyademo01  sasusers                      cars.sashdat   \n",
              " 1   -rwxr-xr-x  viyademo01  sasusers       forest_model_astore.sashdat   \n",
              " 2   -rw-r--r--  viyademo01  sasusers                  buytest.sas7bdat   \n",
              " 3   -rw-r--r--  viyademo01  sasusers                    EG_DEMO_2.xlsx   \n",
              " 4   -rwxr-xr-x  viyademo01  sasusers                INSSUBRO_K.sashdat   \n",
              " 5   -rwxr-xr-x  viyademo01  sasusers                   hmeq_lb.sashdat   \n",
              " 6   -rwxr-xr-x  viyademo01  sasusers           tmpScoreData_bc.sashdat   \n",
              " 7   -rwxr-xr-x  viyademo01  sasusers                      HMEQ.sashdat   \n",
              " 8   -rwxr-xr-x  viyademo01  sasusers              claim.sahdat.sashdat   \n",
              " 9   -rwxr-xr-x  viyademo01  sasusers                     claim.sashdat   \n",
              " 10  -rwxr-xr-x  viyademo01  sasusers  trn_missing_model_astore.sashdat   \n",
              " 11  -rwxr-xr-x  viyademo01  sasusers     logistic_model_astore.sashdat   \n",
              " 12  -rwxr-xr-x  viyademo01  sasusers               impute_code.sashdat   \n",
              " \n",
              "         Size Encryption                       Time       ModTime  \n",
              " 0      80400       NONE  2020-01-08T04:24:50+00:00  1.894077e+09  \n",
              " 1   22763888       NONE  2020-01-08T06:30:22+00:00  1.894084e+09  \n",
              " 2    1966080             2020-07-23T04:18:03+00:00  1.911097e+09  \n",
              " 3     380241             2020-07-23T04:25:47+00:00  1.911098e+09  \n",
              " 4     743640       NONE  2020-10-29T05:33:50+00:00  1.919569e+09  \n",
              " 5     632920       NONE  2020-11-24T08:26:02+00:00  1.921826e+09  \n",
              " 6    1062816       NONE  2021-10-18T06:02:19+00:00  1.950156e+09  \n",
              " 7     680000       NONE  2022-06-02T06:47:15+00:00  1.969772e+09  \n",
              " 8    3361280       NONE  2022-09-02T10:02:23+00:00  1.977732e+09  \n",
              " 9    3361280       NONE  2022-09-02T10:03:30+00:00  1.977732e+09  \n",
              " 10     31872       NONE  2022-09-05T08:36:29+00:00  1.977986e+09  \n",
              " 11   2376184       NONE  2022-09-06T05:43:20+00:00  1.978062e+09  \n",
              " 12     13472       NONE  2022-10-18T10:25:51+00:00  1.981708e+09  \n",
              "\n",
              "+ Elapsed: 0.0118s, user: 0.00467s, sys: 0.0058s, mem: 1.53mb"
            ]
          },
          "execution_count": 17,
          "metadata": {},
          "output_type": "execute_result"
        }
      ],
      "source": [
        "conn.fileinfo(caslib='casuser')"
      ]
    },
    {
      "cell_type": "markdown",
      "metadata": {
        "id": "Lr1j9WETfVTY"
      },
      "source": [
        "위의 테이블들을 바로 load 가능"
      ]
    },
    {
      "cell_type": "markdown",
      "source": [
        "## data load"
      ],
      "metadata": {
        "id": "UhQUxVgLlJ0a"
      }
    },
    {
      "cell_type": "code",
      "execution_count": null,
      "metadata": {
        "id": "VT2UbUSvfVTY"
      },
      "outputs": [],
      "source": [
        "url = 'https://github.com/bong-ju-kang/data/blob/master/claim.csv?raw=true'"
      ]
    },
    {
      "cell_type": "code",
      "execution_count": null,
      "metadata": {
        "id": "S1BjZSq0fVTZ",
        "outputId": "51a343b2-550b-44d2-8e2c-ce2dedc55ef4"
      },
      "outputs": [
        {
          "data": {
            "text/plain": [
              "'https://github.com/bong-ju-kang/data/blob/master/claim.csv?raw=true'"
            ]
          },
          "execution_count": 19,
          "metadata": {},
          "output_type": "execute_result"
        }
      ],
      "source": [
        "url"
      ]
    },
    {
      "cell_type": "markdown",
      "metadata": {
        "id": "Svm4OaRBfVTZ"
      },
      "source": [
        "일반적인 데이터 로드 방법"
      ]
    },
    {
      "cell_type": "code",
      "execution_count": null,
      "metadata": {
        "id": "GiXbT2vgfVTZ"
      },
      "outputs": [],
      "source": [
        "import pandas as pd\n",
        "df = pd.read_csv(url)"
      ]
    },
    {
      "cell_type": "code",
      "execution_count": null,
      "metadata": {
        "id": "KbLA1HrafVTa",
        "outputId": "c3e5c9df-9045-44ba-ba95-a0fb6e3f2c6e"
      },
      "outputs": [
        {
          "data": {
            "text/html": [
              "<div>\n",
              "<style scoped>\n",
              "    .dataframe tbody tr th:only-of-type {\n",
              "        vertical-align: middle;\n",
              "    }\n",
              "\n",
              "    .dataframe tbody tr th {\n",
              "        vertical-align: top;\n",
              "    }\n",
              "\n",
              "    .dataframe thead th {\n",
              "        text-align: right;\n",
              "    }\n",
              "</style>\n",
              "<table border=\"1\" class=\"dataframe\">\n",
              "  <thead>\n",
              "    <tr style=\"text-align: right;\">\n",
              "      <th></th>\n",
              "      <th>id</th>\n",
              "      <th>child_driv</th>\n",
              "      <th>age</th>\n",
              "      <th>children</th>\n",
              "      <th>yoj</th>\n",
              "      <th>income</th>\n",
              "      <th>house_val</th>\n",
              "      <th>status</th>\n",
              "      <th>gender</th>\n",
              "      <th>edu_level</th>\n",
              "      <th>...</th>\n",
              "      <th>vehicle_val</th>\n",
              "      <th>vehicle_type</th>\n",
              "      <th>clm_freq</th>\n",
              "      <th>revoked</th>\n",
              "      <th>mvr_pts</th>\n",
              "      <th>claim_amount</th>\n",
              "      <th>vehicle_age</th>\n",
              "      <th>claim_ind</th>\n",
              "      <th>area</th>\n",
              "      <th>state_code</th>\n",
              "    </tr>\n",
              "  </thead>\n",
              "  <tbody>\n",
              "    <tr>\n",
              "      <td>0</td>\n",
              "      <td>6.921625e+09</td>\n",
              "      <td>0</td>\n",
              "      <td>67.0</td>\n",
              "      <td>0</td>\n",
              "      <td>14.0</td>\n",
              "      <td>53841.0</td>\n",
              "      <td>359229.0</td>\n",
              "      <td>z_No</td>\n",
              "      <td>Mal</td>\n",
              "      <td>Bachelors</td>\n",
              "      <td>...</td>\n",
              "      <td>21970</td>\n",
              "      <td>Family</td>\n",
              "      <td>0</td>\n",
              "      <td>No</td>\n",
              "      <td>2</td>\n",
              "      <td>294</td>\n",
              "      <td>12.0</td>\n",
              "      <td>0</td>\n",
              "      <td>Highly Urban/ Urban</td>\n",
              "      <td>Berlin</td>\n",
              "    </tr>\n",
              "    <tr>\n",
              "      <td>1</td>\n",
              "      <td>1.227899e+09</td>\n",
              "      <td>0</td>\n",
              "      <td>26.0</td>\n",
              "      <td>1</td>\n",
              "      <td>13.0</td>\n",
              "      <td>16999.0</td>\n",
              "      <td>265527.0</td>\n",
              "      <td>NaN</td>\n",
              "      <td>Fem</td>\n",
              "      <td>z_High School</td>\n",
              "      <td>...</td>\n",
              "      <td>4010</td>\n",
              "      <td>unknown</td>\n",
              "      <td>4</td>\n",
              "      <td>No</td>\n",
              "      <td>7</td>\n",
              "      <td>292</td>\n",
              "      <td>12.0</td>\n",
              "      <td>0</td>\n",
              "      <td>Highly Urban/ Urban</td>\n",
              "      <td>Thueringen</td>\n",
              "    </tr>\n",
              "    <tr>\n",
              "      <td>2</td>\n",
              "      <td>1.950524e+09</td>\n",
              "      <td>0</td>\n",
              "      <td>71.0</td>\n",
              "      <td>0</td>\n",
              "      <td>17.0</td>\n",
              "      <td>NaN</td>\n",
              "      <td>323918.0</td>\n",
              "      <td>Yes</td>\n",
              "      <td>Mal</td>\n",
              "      <td>&lt;High School</td>\n",
              "      <td>...</td>\n",
              "      <td>15440</td>\n",
              "      <td>Minivan</td>\n",
              "      <td>0</td>\n",
              "      <td>No</td>\n",
              "      <td>0</td>\n",
              "      <td>387</td>\n",
              "      <td>8.0</td>\n",
              "      <td>0</td>\n",
              "      <td>Highly Urban/ Urban</td>\n",
              "      <td>Bayern</td>\n",
              "    </tr>\n",
              "    <tr>\n",
              "      <td>3</td>\n",
              "      <td>1.743448e+09</td>\n",
              "      <td>0</td>\n",
              "      <td>68.0</td>\n",
              "      <td>0</td>\n",
              "      <td>NaN</td>\n",
              "      <td>115546.0</td>\n",
              "      <td>361705.0</td>\n",
              "      <td>Yes</td>\n",
              "      <td>Fem</td>\n",
              "      <td>PhD</td>\n",
              "      <td>...</td>\n",
              "      <td>18000</td>\n",
              "      <td>unknown</td>\n",
              "      <td>4</td>\n",
              "      <td>Yes</td>\n",
              "      <td>3</td>\n",
              "      <td>308</td>\n",
              "      <td>19.0</td>\n",
              "      <td>0</td>\n",
              "      <td>Highly Urban/ Urban</td>\n",
              "      <td>Bayern</td>\n",
              "    </tr>\n",
              "    <tr>\n",
              "      <td>4</td>\n",
              "      <td>7.371333e+09</td>\n",
              "      <td>0</td>\n",
              "      <td>32.0</td>\n",
              "      <td>1</td>\n",
              "      <td>15.0</td>\n",
              "      <td>125861.0</td>\n",
              "      <td>70668.0</td>\n",
              "      <td>z_No</td>\n",
              "      <td>Fem</td>\n",
              "      <td>Bachelors</td>\n",
              "      <td>...</td>\n",
              "      <td>17430</td>\n",
              "      <td>Sports Car</td>\n",
              "      <td>0</td>\n",
              "      <td>No</td>\n",
              "      <td>0</td>\n",
              "      <td>3221</td>\n",
              "      <td>9.0</td>\n",
              "      <td>1</td>\n",
              "      <td>Highly Urban/ Urban</td>\n",
              "      <td>Bayern</td>\n",
              "    </tr>\n",
              "  </tbody>\n",
              "</table>\n",
              "<p>5 rows × 23 columns</p>\n",
              "</div>"
            ],
            "text/plain": [
              "             id  child_driv   age  children   yoj    income  house_val status  \\\n",
              "0  6.921625e+09           0  67.0         0  14.0   53841.0   359229.0   z_No   \n",
              "1  1.227899e+09           0  26.0         1  13.0   16999.0   265527.0    NaN   \n",
              "2  1.950524e+09           0  71.0         0  17.0       NaN   323918.0    Yes   \n",
              "3  1.743448e+09           0  68.0         0   NaN  115546.0   361705.0    Yes   \n",
              "4  7.371333e+09           0  32.0         1  15.0  125861.0    70668.0   z_No   \n",
              "\n",
              "  gender      edu_level  ... vehicle_val  vehicle_type clm_freq  revoked  \\\n",
              "0    Mal      Bachelors  ...       21970        Family        0       No   \n",
              "1    Fem  z_High School  ...        4010       unknown        4       No   \n",
              "2    Mal   <High School  ...       15440       Minivan        0       No   \n",
              "3    Fem            PhD  ...       18000       unknown        4      Yes   \n",
              "4    Fem      Bachelors  ...       17430    Sports Car        0       No   \n",
              "\n",
              "  mvr_pts  claim_amount vehicle_age  claim_ind                 area  \\\n",
              "0       2           294        12.0          0  Highly Urban/ Urban   \n",
              "1       7           292        12.0          0  Highly Urban/ Urban   \n",
              "2       0           387         8.0          0  Highly Urban/ Urban   \n",
              "3       3           308        19.0          0  Highly Urban/ Urban   \n",
              "4       0          3221         9.0          1  Highly Urban/ Urban   \n",
              "\n",
              "   state_code  \n",
              "0      Berlin  \n",
              "1  Thueringen  \n",
              "2      Bayern  \n",
              "3      Bayern  \n",
              "4      Bayern  \n",
              "\n",
              "[5 rows x 23 columns]"
            ]
          },
          "execution_count": 23,
          "metadata": {},
          "output_type": "execute_result"
        }
      ],
      "source": [
        "df.head()"
      ]
    },
    {
      "cell_type": "markdown",
      "metadata": {
        "id": "38AXNpAVfVTa"
      },
      "source": [
        "데이터가 클 때 CAS 서버에 데이터를 올려 사용"
      ]
    },
    {
      "cell_type": "code",
      "execution_count": null,
      "metadata": {
        "id": "4gFtNjKbfVTa",
        "outputId": "cfb56683-3ee7-4f41-9901-9d9b8ee39991"
      },
      "outputs": [
        {
          "name": "stdout",
          "output_type": "stream",
          "text": [
            "NOTE: Cloud Analytic Services made the uploaded file available as table TMP9BVGZRFD in caslib CASUSERHDFS(viyademo01).\n",
            "NOTE: The table TMP9BVGZRFD has been created in caslib CASUSERHDFS(viyademo01) from binary data uploaded to Cloud Analytic Services.\n"
          ]
        },
        {
          "data": {
            "text/plain": [
              "CASTable('TMP9BVGZRFD', caslib='CASUSERHDFS(viyademo01)')"
            ]
          },
          "execution_count": 24,
          "metadata": {},
          "output_type": "execute_result"
        }
      ],
      "source": [
        "conn.read_csv(url) # cas 서버에 데이터 로드"
      ]
    },
    {
      "cell_type": "markdown",
      "metadata": {
        "id": "HmQCo1QRfVTb"
      },
      "source": [
        "CASTable('TMP9BVGZRFD', caslib='CASUSERHDFS(viyademo01)') # 현재 액티브되어있는 라이브러리는 CASUSERHDFS(viyademo01)"
      ]
    },
    {
      "cell_type": "code",
      "execution_count": null,
      "metadata": {
        "id": "nojBeFVqfVTb",
        "outputId": "b2dd315a-7b82-4384-a5a7-fecf0db42a39"
      },
      "outputs": [
        {
          "name": "stdout",
          "output_type": "stream",
          "text": [
            "NOTE: Cloud Analytic Services made the uploaded file available as table CLAIM in caslib CASUSERHDFS(viyademo01).\n",
            "NOTE: The table CLAIM has been created in caslib CASUSERHDFS(viyademo01) from binary data uploaded to Cloud Analytic Services.\n"
          ]
        },
        {
          "data": {
            "text/plain": [
              "CASTable('CLAIM', caslib='CASUSERHDFS(viyademo01)')"
            ]
          },
          "execution_count": 25,
          "metadata": {},
          "output_type": "execute_result"
        }
      ],
      "source": [
        "conn.read_csv(url,\n",
        "             casout={'name':'claim', 'replace':True}) # 테이블명을 다른 이름으로 설정"
      ]
    },
    {
      "cell_type": "code",
      "execution_count": null,
      "metadata": {
        "id": "iZVsSUj8fVTb",
        "outputId": "d8519ab6-47ae-4e51-f630-befcff9d7e02"
      },
      "outputs": [
        {
          "name": "stdout",
          "output_type": "stream",
          "text": [
            "NOTE: Cloud Analytic Services made the uploaded file available as table CLAIM in caslib CASUSERHDFS(viyademo01).\n",
            "NOTE: The table CLAIM has been created in caslib CASUSERHDFS(viyademo01) from binary data uploaded to Cloud Analytic Services.\n"
          ]
        },
        {
          "data": {
            "text/plain": [
              "CASTable('CLAIM', caslib='CASUSERHDFS(viyademo01)')"
            ]
          },
          "execution_count": 26,
          "metadata": {},
          "output_type": "execute_result"
        }
      ],
      "source": [
        "tbl = conn.read_csv(url,\n",
        "             casout={'name':'claim', 'replace':True})\n",
        "tbl # 데이터를 모두 가져옴"
      ]
    },
    {
      "cell_type": "code",
      "execution_count": null,
      "metadata": {
        "id": "ybIaekL3fVTb",
        "outputId": "b428c2ee-471a-44f7-85e1-d0ae31151643"
      },
      "outputs": [
        {
          "data": {
            "text/plain": [
              "<bound method CASTable.head of CASTable('CLAIM', caslib='CASUSERHDFS(viyademo01)')>"
            ]
          },
          "execution_count": 28,
          "metadata": {},
          "output_type": "execute_result"
        }
      ],
      "source": [
        "tbl.head() "
      ]
    },
    {
      "cell_type": "markdown",
      "source": [
        "데이터 head()시 sample에 n갯수 입력 필요 "
      ],
      "metadata": {
        "id": "c9XFSc12lc8v"
      }
    },
    {
      "cell_type": "code",
      "execution_count": null,
      "metadata": {
        "id": "YKkb0_1_fVTc",
        "outputId": "04e9fdb8-5886-4f59-cbac-884d14ca0d4d"
      },
      "outputs": [
        {
          "name": "stderr",
          "output_type": "stream",
          "text": [
            "/root/anaconda3/lib/python3.7/site-packages/swat/cas/table.py:6662: FutureWarning: \n",
            ".ix is deprecated. Please use\n",
            ".loc for label based indexing or\n",
            ".iloc for positional indexing\n",
            "\n",
            "See the documentation here:\n",
            "http://pandas.pydata.org/pandas-docs/stable/user_guide/indexing.html#ix-indexer-is-deprecated\n",
            "  **params)['OutputCasTables'].ix[0, 'casTable']\n",
            "/root/anaconda3/lib/python3.7/site-packages/pandas/core/indexing.py:961: FutureWarning: \n",
            ".ix is deprecated. Please use\n",
            ".loc for label based indexing or\n",
            ".iloc for positional indexing\n",
            "\n",
            "See the documentation here:\n",
            "http://pandas.pydata.org/pandas-docs/stable/user_guide/indexing.html#ix-indexer-is-deprecated\n",
            "  return getattr(section, self.name)[new_key]\n"
          ]
        },
        {
          "data": {
            "text/html": [
              "<div>\n",
              "<style scoped>\n",
              "    .dataframe tbody tr th:only-of-type {\n",
              "        vertical-align: middle;\n",
              "    }\n",
              "\n",
              "    .dataframe tbody tr th {\n",
              "        vertical-align: top;\n",
              "    }\n",
              "\n",
              "    .dataframe thead th {\n",
              "        text-align: right;\n",
              "    }\n",
              "</style>\n",
              "<table border=\"1\" class=\"dataframe\"><caption>Selected Rows from Table _PY_T_24057DB6_99A6_4501_99BC_B6091AC5944E</caption>\n",
              "  <thead>\n",
              "    <tr style=\"text-align: right;\">\n",
              "      <th title=\"\"></th>\n",
              "      <th title=\"id\">id</th>\n",
              "      <th title=\"child_driv\">child_driv</th>\n",
              "      <th title=\"age\">age</th>\n",
              "      <th title=\"children\">children</th>\n",
              "      <th title=\"yoj\">yoj</th>\n",
              "      <th title=\"income\">income</th>\n",
              "      <th title=\"house_val\">house_val</th>\n",
              "      <th title=\"status\">status</th>\n",
              "      <th title=\"gender\">gender</th>\n",
              "      <th title=\"edu_level\">edu_level</th>\n",
              "      <th title=\"...\">...</th>\n",
              "      <th title=\"vehicle_val\">vehicle_val</th>\n",
              "      <th title=\"vehicle_type\">vehicle_type</th>\n",
              "      <th title=\"clm_freq\">clm_freq</th>\n",
              "      <th title=\"revoked\">revoked</th>\n",
              "      <th title=\"mvr_pts\">mvr_pts</th>\n",
              "      <th title=\"claim_amount\">claim_amount</th>\n",
              "      <th title=\"vehicle_age\">vehicle_age</th>\n",
              "      <th title=\"claim_ind\">claim_ind</th>\n",
              "      <th title=\"area\">area</th>\n",
              "      <th title=\"state_code\">state_code</th>\n",
              "    </tr>\n",
              "  </thead>\n",
              "  <tbody>\n",
              "    <tr>\n",
              "      <td>0</td>\n",
              "      <td>7.733805e+09</td>\n",
              "      <td>0.0</td>\n",
              "      <td>57.0</td>\n",
              "      <td>0.0</td>\n",
              "      <td>15.0</td>\n",
              "      <td>225871.0</td>\n",
              "      <td>645094.0</td>\n",
              "      <td>Yes</td>\n",
              "      <td>Fem</td>\n",
              "      <td>PhD</td>\n",
              "      <td>...</td>\n",
              "      <td>16990.0</td>\n",
              "      <td>Pickup</td>\n",
              "      <td>4.0</td>\n",
              "      <td>No</td>\n",
              "      <td>3.0</td>\n",
              "      <td>302.0</td>\n",
              "      <td>11.0</td>\n",
              "      <td>0.0</td>\n",
              "      <td>Highly Urban/ Urban</td>\n",
              "      <td>Hessen</td>\n",
              "    </tr>\n",
              "    <tr>\n",
              "      <td>1</td>\n",
              "      <td>6.191771e+09</td>\n",
              "      <td>0.0</td>\n",
              "      <td>47.0</td>\n",
              "      <td>2.0</td>\n",
              "      <td>20.0</td>\n",
              "      <td>23654.0</td>\n",
              "      <td>447041.0</td>\n",
              "      <td>Yes</td>\n",
              "      <td>Fem</td>\n",
              "      <td>z_High School</td>\n",
              "      <td>...</td>\n",
              "      <td>9310.0</td>\n",
              "      <td>Sports Car</td>\n",
              "      <td>2.0</td>\n",
              "      <td>No</td>\n",
              "      <td>2.0</td>\n",
              "      <td>3367.0</td>\n",
              "      <td>3.0</td>\n",
              "      <td>1.0</td>\n",
              "      <td>Highly Urban/ Urban</td>\n",
              "      <td>Berlin</td>\n",
              "    </tr>\n",
              "    <tr>\n",
              "      <td>2</td>\n",
              "      <td>2.021339e+09</td>\n",
              "      <td>0.0</td>\n",
              "      <td>57.0</td>\n",
              "      <td>0.0</td>\n",
              "      <td>3.0</td>\n",
              "      <td>1360.0</td>\n",
              "      <td>194337.0</td>\n",
              "      <td>z_No</td>\n",
              "      <td>Mal</td>\n",
              "      <td>z_High School</td>\n",
              "      <td>...</td>\n",
              "      <td>6200.0</td>\n",
              "      <td>Pickup</td>\n",
              "      <td>5.0</td>\n",
              "      <td>No</td>\n",
              "      <td>2.0</td>\n",
              "      <td>8932.0</td>\n",
              "      <td>3.0</td>\n",
              "      <td>1.0</td>\n",
              "      <td>z_Highly Rural/ Rural</td>\n",
              "      <td>Berlin</td>\n",
              "    </tr>\n",
              "  </tbody>\n",
              "</table>\n",
              "<p>3 rows × 23 columns</p>\n",
              "</div>"
            ],
            "text/plain": [
              "Selected Rows from Table _PY_T_24057DB6_99A6_4501_99BC_B6091AC5944E\n",
              "\n",
              "             id  child_driv   age  children   yoj    income  house_val status  \\\n",
              "0  7.733805e+09         0.0  57.0       0.0  15.0  225871.0   645094.0    Yes   \n",
              "1  6.191771e+09         0.0  47.0       2.0  20.0   23654.0   447041.0    Yes   \n",
              "2  2.021339e+09         0.0  57.0       0.0   3.0    1360.0   194337.0   z_No   \n",
              "\n",
              "  gender      edu_level  ... vehicle_val  vehicle_type clm_freq  revoked  \\\n",
              "0    Fem            PhD  ...     16990.0        Pickup      4.0       No   \n",
              "1    Fem  z_High School  ...      9310.0    Sports Car      2.0       No   \n",
              "2    Mal  z_High School  ...      6200.0        Pickup      5.0       No   \n",
              "\n",
              "  mvr_pts  claim_amount vehicle_age  claim_ind                   area  \\\n",
              "0     3.0         302.0        11.0        0.0    Highly Urban/ Urban   \n",
              "1     2.0        3367.0         3.0        1.0    Highly Urban/ Urban   \n",
              "2     2.0        8932.0         3.0        1.0  z_Highly Rural/ Rural   \n",
              "\n",
              "   state_code  \n",
              "0      Hessen  \n",
              "1      Berlin  \n",
              "2      Berlin  \n",
              "\n",
              "[3 rows x 23 columns]"
            ]
          },
          "execution_count": 27,
          "metadata": {},
          "output_type": "execute_result"
        }
      ],
      "source": [
        "tbl.sample(n=3).head() # 일부 데이터만 로드"
      ]
    },
    {
      "cell_type": "code",
      "execution_count": null,
      "metadata": {
        "id": "fBIT6Sl3fVTc",
        "outputId": "1c67084f-309d-4b8a-b473-75c225514faa"
      },
      "outputs": [
        {
          "data": {
            "text/plain": [
              "swat.cas.table.CASTable"
            ]
          },
          "execution_count": 30,
          "metadata": {},
          "output_type": "execute_result"
        }
      ],
      "source": [
        "type(tbl)"
      ]
    },
    {
      "cell_type": "markdown",
      "source": [
        "데이터 type은 CASTable로 지정됨"
      ],
      "metadata": {
        "id": "SFFJ5_8ml3rC"
      }
    },
    {
      "cell_type": "code",
      "execution_count": null,
      "metadata": {
        "id": "MGywJ05CfVTc",
        "outputId": "3f9333c0-78de-4cdd-ed03-526ff99ce946"
      },
      "outputs": [
        {
          "name": "stdout",
          "output_type": "stream",
          "text": [
            "<class 'pandas.core.frame.DataFrame'>\n",
            "RangeIndex: 10300 entries, 0 to 10299\n",
            "Data columns (total 23 columns):\n",
            "id              10300 non-null float64\n",
            "child_driv      10300 non-null int64\n",
            "age             10293 non-null float64\n",
            "children        10300 non-null int64\n",
            "yoj             9752 non-null float64\n",
            "income          9730 non-null float64\n",
            "house_val       9725 non-null float64\n",
            "status          10298 non-null object\n",
            "gender          10300 non-null object\n",
            "edu_level       10300 non-null object\n",
            "job             9635 non-null object\n",
            "distance        10300 non-null int64\n",
            "car_use         10300 non-null object\n",
            "vehicle_val     10300 non-null int64\n",
            "vehicle_type    10300 non-null object\n",
            "clm_freq        10300 non-null int64\n",
            "revoked         10300 non-null object\n",
            "mvr_pts         10300 non-null int64\n",
            "claim_amount    10300 non-null int64\n",
            "vehicle_age     9661 non-null float64\n",
            "claim_ind       10300 non-null int64\n",
            "area            10300 non-null object\n",
            "state_code      10300 non-null object\n",
            "dtypes: float64(6), int64(8), object(9)\n",
            "memory usage: 1.8+ MB\n"
          ]
        }
      ],
      "source": [
        "df.info()"
      ]
    },
    {
      "cell_type": "code",
      "execution_count": null,
      "metadata": {
        "id": "xPAVQqSdfVTd",
        "outputId": "acf83ff3-d44f-4bcd-fc28-27bb0cf2039c"
      },
      "outputs": [
        {
          "name": "stdout",
          "output_type": "stream",
          "text": [
            "CASTable('CLAIM', caslib='CASUSERHDFS(viyademo01)')\n"
          ]
        },
        {
          "name": "stderr",
          "output_type": "stream",
          "text": [
            "/root/anaconda3/lib/python3.7/site-packages/swat/cas/table.py:2420: FutureWarning: \n",
            ".ix is deprecated. Please use\n",
            ".loc for label based indexing or\n",
            ".iloc for positional indexing\n",
            "\n",
            "See the documentation here:\n",
            "http://pandas.pydata.org/pandas-docs/stable/user_guide/indexing.html#ix-indexer-is-deprecated\n",
            "  return tblinfo.ix[0, 'Columns'] + len(computedvars)\n"
          ]
        },
        {
          "name": "stdout",
          "output_type": "stream",
          "text": [
            "Data columns (total 23 columns):\n",
            "                  N   Miss     Type\n",
            "id            10300  False   double\n",
            "child_driv    10300  False   double\n",
            "age           10293   True   double\n",
            "children      10300  False   double\n",
            "yoj            9752   True   double\n",
            "income         9730   True   double\n",
            "house_val      9725   True   double\n",
            "status        10298   True  varchar\n",
            "gender        10300  False  varchar\n",
            "edu_level     10300  False  varchar\n",
            "job            9635   True  varchar\n",
            "distance      10300  False   double\n",
            "car_use       10300  False  varchar\n",
            "vehicle_val   10300  False   double\n",
            "vehicle_type  10300  False  varchar\n",
            "clm_freq      10300  False   double\n",
            "revoked       10300  False  varchar\n",
            "mvr_pts       10300  False   double\n",
            "claim_amount  10300  False   double\n",
            "vehicle_age    9661   True   double\n",
            "claim_ind     10300  False   double\n",
            "area          10300  False  varchar\n",
            "state_code    10300  False  varchar\n",
            "dtypes: double(14), varchar(9)\n",
            "data size: 3347058\n",
            "vardata size: 710258\n",
            "memory usage: 0\n"
          ]
        }
      ],
      "source": [
        "tbl.info()"
      ]
    },
    {
      "cell_type": "code",
      "execution_count": null,
      "metadata": {
        "id": "NkRx1fUEfVTd",
        "outputId": "b4d29732-7bb4-4a92-8ca2-caa53920d476"
      },
      "outputs": [
        {
          "data": {
            "text/plain": [
              "id              float64\n",
              "child_driv        int64\n",
              "age             float64\n",
              "children          int64\n",
              "yoj             float64\n",
              "income          float64\n",
              "house_val       float64\n",
              "status           object\n",
              "gender           object\n",
              "edu_level        object\n",
              "job              object\n",
              "distance          int64\n",
              "car_use          object\n",
              "vehicle_val       int64\n",
              "vehicle_type     object\n",
              "clm_freq          int64\n",
              "revoked          object\n",
              "mvr_pts           int64\n",
              "claim_amount      int64\n",
              "vehicle_age     float64\n",
              "claim_ind         int64\n",
              "area             object\n",
              "state_code       object\n",
              "dtype: object"
            ]
          },
          "execution_count": 32,
          "metadata": {},
          "output_type": "execute_result"
        }
      ],
      "source": [
        "df.dtypes"
      ]
    },
    {
      "cell_type": "code",
      "execution_count": null,
      "metadata": {
        "id": "SAbYmSW2fVTd",
        "outputId": "a8065023-2bf7-4b05-d57e-2ded1945bf5a"
      },
      "outputs": [
        {
          "data": {
            "text/plain": [
              "id               double\n",
              "child_driv       double\n",
              "age              double\n",
              "children         double\n",
              "yoj              double\n",
              "income           double\n",
              "house_val        double\n",
              "status          varchar\n",
              "gender          varchar\n",
              "edu_level       varchar\n",
              "job             varchar\n",
              "distance         double\n",
              "car_use         varchar\n",
              "vehicle_val      double\n",
              "vehicle_type    varchar\n",
              "clm_freq         double\n",
              "revoked         varchar\n",
              "mvr_pts          double\n",
              "claim_amount     double\n",
              "vehicle_age      double\n",
              "claim_ind        double\n",
              "area            varchar\n",
              "state_code      varchar\n",
              "dtype: object"
            ]
          },
          "execution_count": 33,
          "metadata": {},
          "output_type": "execute_result"
        }
      ],
      "source": [
        "tbl.dtypes"
      ]
    },
    {
      "cell_type": "markdown",
      "source": [
        "SAS와 마찬가지로 문자와 숫자형으로만 변수 TYPE 구분\n",
        "\n",
        "숫자 : double, 문자 varchar"
      ],
      "metadata": {
        "id": "1yV0PWNcl8ku"
      }
    },
    {
      "cell_type": "code",
      "execution_count": null,
      "metadata": {
        "id": "1B4A8jDCfVTe",
        "outputId": "98210824-4e71-4da5-fd1e-92d643948759"
      },
      "outputs": [
        {
          "data": {
            "text/html": [
              "<div>\n",
              "<style scoped>\n",
              "    .dataframe tbody tr th:only-of-type {\n",
              "        vertical-align: middle;\n",
              "    }\n",
              "\n",
              "    .dataframe tbody tr th {\n",
              "        vertical-align: top;\n",
              "    }\n",
              "\n",
              "    .dataframe thead th {\n",
              "        text-align: right;\n",
              "    }\n",
              "</style>\n",
              "<table border=\"1\" class=\"dataframe\"><caption>Selected Rows from Table CLAIM</caption>\n",
              "  <thead>\n",
              "    <tr style=\"text-align: right;\">\n",
              "      <th title=\"\"></th>\n",
              "      <th title=\"status\">status</th>\n",
              "      <th title=\"gender\">gender</th>\n",
              "      <th title=\"edu_level\">edu_level</th>\n",
              "      <th title=\"job\">job</th>\n",
              "      <th title=\"car_use\">car_use</th>\n",
              "      <th title=\"vehicle_type\">vehicle_type</th>\n",
              "      <th title=\"revoked\">revoked</th>\n",
              "      <th title=\"area\">area</th>\n",
              "      <th title=\"state_code\">state_code</th>\n",
              "    </tr>\n",
              "  </thead>\n",
              "  <tbody>\n",
              "    <tr>\n",
              "      <td>0</td>\n",
              "      <td>z_No</td>\n",
              "      <td>Mal</td>\n",
              "      <td>Bachelors</td>\n",
              "      <td>None</td>\n",
              "      <td>Private</td>\n",
              "      <td>Family</td>\n",
              "      <td>No</td>\n",
              "      <td>Highly Urban/ Urban</td>\n",
              "      <td>Berlin</td>\n",
              "    </tr>\n",
              "    <tr>\n",
              "      <td>1</td>\n",
              "      <td></td>\n",
              "      <td>Fem</td>\n",
              "      <td>z_High School</td>\n",
              "      <td>Clerical</td>\n",
              "      <td>Private</td>\n",
              "      <td>unknown</td>\n",
              "      <td>No</td>\n",
              "      <td>Highly Urban/ Urban</td>\n",
              "      <td>Thueringen</td>\n",
              "    </tr>\n",
              "    <tr>\n",
              "      <td>2</td>\n",
              "      <td>Yes</td>\n",
              "      <td>Mal</td>\n",
              "      <td>&lt;High School</td>\n",
              "      <td>Teacher</td>\n",
              "      <td>Private</td>\n",
              "      <td>Minivan</td>\n",
              "      <td>No</td>\n",
              "      <td>Highly Urban/ Urban</td>\n",
              "      <td>Bayern</td>\n",
              "    </tr>\n",
              "    <tr>\n",
              "      <td>3</td>\n",
              "      <td>Yes</td>\n",
              "      <td>Fem</td>\n",
              "      <td>PhD</td>\n",
              "      <td>Doctor</td>\n",
              "      <td>Private</td>\n",
              "      <td>unknown</td>\n",
              "      <td>Yes</td>\n",
              "      <td>Highly Urban/ Urban</td>\n",
              "      <td>Bayern</td>\n",
              "    </tr>\n",
              "    <tr>\n",
              "      <td>4</td>\n",
              "      <td>z_No</td>\n",
              "      <td>Fem</td>\n",
              "      <td>Bachelors</td>\n",
              "      <td>Teacher</td>\n",
              "      <td>Commercial</td>\n",
              "      <td>Sports Car</td>\n",
              "      <td>No</td>\n",
              "      <td>Highly Urban/ Urban</td>\n",
              "      <td>Bayern</td>\n",
              "    </tr>\n",
              "  </tbody>\n",
              "</table>\n",
              "</div>"
            ],
            "text/plain": [
              "Selected Rows from Table CLAIM\n",
              "\n",
              "  status gender      edu_level       job     car_use vehicle_type revoked  \\\n",
              "0   z_No    Mal      Bachelors      None     Private       Family      No   \n",
              "1           Fem  z_High School  Clerical     Private      unknown      No   \n",
              "2    Yes    Mal   <High School   Teacher     Private      Minivan      No   \n",
              "3    Yes    Fem            PhD    Doctor     Private      unknown     Yes   \n",
              "4   z_No    Fem      Bachelors   Teacher  Commercial   Sports Car      No   \n",
              "\n",
              "                  area  state_code  \n",
              "0  Highly Urban/ Urban      Berlin  \n",
              "1  Highly Urban/ Urban  Thueringen  \n",
              "2  Highly Urban/ Urban      Bayern  \n",
              "3  Highly Urban/ Urban      Bayern  \n",
              "4  Highly Urban/ Urban      Bayern  "
            ]
          },
          "execution_count": 36,
          "metadata": {},
          "output_type": "execute_result"
        }
      ],
      "source": [
        "tbl.select_dtypes('varchar').head()"
      ]
    },
    {
      "cell_type": "code",
      "execution_count": null,
      "metadata": {
        "id": "aULSOLeNfVTe",
        "outputId": "3192b765-094e-433e-cc72-10db407cb8fe"
      },
      "outputs": [
        {
          "data": {
            "text/plain": [
              "Yes     6187\n",
              "z_No    4111\n",
              "           2\n",
              "dtype: int64"
            ]
          },
          "execution_count": 37,
          "metadata": {},
          "output_type": "execute_result"
        }
      ],
      "source": [
        "tbl['status'].value_counts(dropna=False)"
      ]
    },
    {
      "cell_type": "markdown",
      "metadata": {
        "id": "POIgaWa-fVTe"
      },
      "source": [
        "CAS 서버에서 데이터 핸들링이 되기 때문에 빠른 처리가 가능하며 pandas 문법과 비슷하다"
      ]
    },
    {
      "cell_type": "code",
      "execution_count": null,
      "metadata": {
        "scrolled": true,
        "id": "36mtSayPfVTf",
        "outputId": "619005b3-6565-415d-804a-e8b4b5035dfe"
      },
      "outputs": [
        {
          "data": {
            "text/plain": [
              "id                0\n",
              "child_driv        0\n",
              "age               7\n",
              "children          0\n",
              "yoj             548\n",
              "income          570\n",
              "house_val       575\n",
              "status            2\n",
              "gender            0\n",
              "edu_level         0\n",
              "job             665\n",
              "distance          0\n",
              "car_use           0\n",
              "vehicle_val       0\n",
              "vehicle_type      0\n",
              "clm_freq          0\n",
              "revoked           0\n",
              "mvr_pts           0\n",
              "claim_amount      0\n",
              "vehicle_age     639\n",
              "claim_ind         0\n",
              "area              0\n",
              "state_code        0\n",
              "dtype: int64"
            ]
          },
          "execution_count": 40,
          "metadata": {},
          "output_type": "execute_result"
        }
      ],
      "source": [
        "df.isnull().sum()"
      ]
    },
    {
      "cell_type": "code",
      "execution_count": null,
      "metadata": {
        "scrolled": true,
        "id": "_QUXA7WOfVTf",
        "outputId": "e0783e9e-a6ff-40fe-8da4-6c87528a8212"
      },
      "outputs": [
        {
          "data": {
            "text/plain": [
              "id                0\n",
              "child_driv        0\n",
              "age               7\n",
              "children          0\n",
              "yoj             548\n",
              "income          570\n",
              "house_val       575\n",
              "status            2\n",
              "gender            0\n",
              "edu_level         0\n",
              "job             665\n",
              "distance          0\n",
              "car_use           0\n",
              "vehicle_val       0\n",
              "vehicle_type      0\n",
              "clm_freq          0\n",
              "revoked           0\n",
              "mvr_pts           0\n",
              "claim_amount      0\n",
              "vehicle_age     639\n",
              "claim_ind         0\n",
              "area              0\n",
              "state_code        0\n",
              "dtype: int64"
            ]
          },
          "execution_count": 41,
          "metadata": {},
          "output_type": "execute_result"
        }
      ],
      "source": [
        "tbl.nmiss() # 결측치 확인"
      ]
    },
    {
      "cell_type": "code",
      "execution_count": null,
      "metadata": {
        "id": "ICbVRaGlfVTf",
        "outputId": "90aaf60e-599b-445b-ceca-fac5f1d8e057"
      },
      "outputs": [
        {
          "data": {
            "text/html": [
              "<div class=\"cas-results-key\"><b>&#167; setinfo</b></div>\n",
              "<div class=\"cas-results-body\">\n",
              "<div>\n",
              "<style scoped>\n",
              "    .dataframe tbody tr th:only-of-type {\n",
              "        vertical-align: middle;\n",
              "    }\n",
              "\n",
              "    .dataframe tbody tr th {\n",
              "        vertical-align: top;\n",
              "    }\n",
              "\n",
              "    .dataframe thead th {\n",
              "        text-align: right;\n",
              "    }\n",
              "</style>\n",
              "<table border=\"1\" class=\"dataframe\"><caption>Action set information</caption>\n",
              "  <thead>\n",
              "    <tr style=\"text-align: right;\">\n",
              "      <th title=\"\"></th>\n",
              "      <th title=\"actionset\">actionset</th>\n",
              "      <th title=\"label\">label</th>\n",
              "      <th title=\"loaded\">loaded</th>\n",
              "      <th title=\"extension\">extension</th>\n",
              "      <th title=\"version\">version</th>\n",
              "      <th title=\"product_name\">product_name</th>\n",
              "      <th title=\"user_defined\">user_defined</th>\n",
              "    </tr>\n",
              "  </thead>\n",
              "  <tbody>\n",
              "    <tr>\n",
              "      <td>0</td>\n",
              "      <td>accessControl</td>\n",
              "      <td>Access Controls</td>\n",
              "      <td>1</td>\n",
              "      <td>tkacon</td>\n",
              "      <td>3.05.000</td>\n",
              "      <td>tkcas</td>\n",
              "      <td>false</td>\n",
              "    </tr>\n",
              "    <tr>\n",
              "      <td>1</td>\n",
              "      <td>accessControl</td>\n",
              "      <td>Access Controls</td>\n",
              "      <td>1</td>\n",
              "      <td>casmeta</td>\n",
              "      <td>3.05.000</td>\n",
              "      <td>tkcas</td>\n",
              "      <td>false</td>\n",
              "    </tr>\n",
              "    <tr>\n",
              "      <td>2</td>\n",
              "      <td>aggregation</td>\n",
              "      <td>Aggregation</td>\n",
              "      <td>1</td>\n",
              "      <td>tkcasagg</td>\n",
              "      <td>3.05.000</td>\n",
              "      <td>crsaggregate</td>\n",
              "      <td>false</td>\n",
              "    </tr>\n",
              "    <tr>\n",
              "      <td>3</td>\n",
              "      <td>builtins</td>\n",
              "      <td>Builtins</td>\n",
              "      <td>1</td>\n",
              "      <td>tkcasablt</td>\n",
              "      <td>3.05.000</td>\n",
              "      <td>tkcas</td>\n",
              "      <td>false</td>\n",
              "    </tr>\n",
              "    <tr>\n",
              "      <td>4</td>\n",
              "      <td>configuration</td>\n",
              "      <td>Server Properties</td>\n",
              "      <td>1</td>\n",
              "      <td>tkcascfg</td>\n",
              "      <td>3.05.000</td>\n",
              "      <td>tkcas</td>\n",
              "      <td>false</td>\n",
              "    </tr>\n",
              "    <tr>\n",
              "      <td>5</td>\n",
              "      <td>dataPreprocess</td>\n",
              "      <td>Data Preprocess</td>\n",
              "      <td>1</td>\n",
              "      <td>tktrans</td>\n",
              "      <td>3.05.000</td>\n",
              "      <td>crsstat</td>\n",
              "      <td>false</td>\n",
              "    </tr>\n",
              "    <tr>\n",
              "      <td>6</td>\n",
              "      <td>dataStep</td>\n",
              "      <td>DATA Step</td>\n",
              "      <td>1</td>\n",
              "      <td>datastep</td>\n",
              "      <td>3.05.000</td>\n",
              "      <td>tkcas</td>\n",
              "      <td>false</td>\n",
              "    </tr>\n",
              "    <tr>\n",
              "      <td>7</td>\n",
              "      <td>percentile</td>\n",
              "      <td>Percentile</td>\n",
              "      <td>1</td>\n",
              "      <td>tkcasptl</td>\n",
              "      <td>3.05.000</td>\n",
              "      <td>crsstat</td>\n",
              "      <td>false</td>\n",
              "    </tr>\n",
              "    <tr>\n",
              "      <td>8</td>\n",
              "      <td>sampling</td>\n",
              "      <td>Sampling and Partitioning</td>\n",
              "      <td>1</td>\n",
              "      <td>tkcassamp</td>\n",
              "      <td>3.05.000</td>\n",
              "      <td>crssampling</td>\n",
              "      <td>false</td>\n",
              "    </tr>\n",
              "    <tr>\n",
              "      <td>9</td>\n",
              "      <td>search</td>\n",
              "      <td>Search</td>\n",
              "      <td>1</td>\n",
              "      <td>casidx</td>\n",
              "      <td>3.05.000</td>\n",
              "      <td>crssearch</td>\n",
              "      <td>false</td>\n",
              "    </tr>\n",
              "    <tr>\n",
              "      <td>10</td>\n",
              "      <td>session</td>\n",
              "      <td>Session Methods</td>\n",
              "      <td>1</td>\n",
              "      <td>tkcsessn</td>\n",
              "      <td>3.05.000</td>\n",
              "      <td>tkcas</td>\n",
              "      <td>false</td>\n",
              "    </tr>\n",
              "    <tr>\n",
              "      <td>11</td>\n",
              "      <td>sessionProp</td>\n",
              "      <td>Session Properties</td>\n",
              "      <td>1</td>\n",
              "      <td>tkcstate</td>\n",
              "      <td>3.05.000</td>\n",
              "      <td>tkcas</td>\n",
              "      <td>false</td>\n",
              "    </tr>\n",
              "    <tr>\n",
              "      <td>12</td>\n",
              "      <td>simple</td>\n",
              "      <td>Simple Analytics</td>\n",
              "      <td>1</td>\n",
              "      <td>tkimstat</td>\n",
              "      <td>3.05.000</td>\n",
              "      <td>crsstat</td>\n",
              "      <td>false</td>\n",
              "    </tr>\n",
              "    <tr>\n",
              "      <td>13</td>\n",
              "      <td>table</td>\n",
              "      <td>Tables</td>\n",
              "      <td>1</td>\n",
              "      <td>tkcastab</td>\n",
              "      <td>3.05.000</td>\n",
              "      <td>tkcas</td>\n",
              "      <td>false</td>\n",
              "    </tr>\n",
              "  </tbody>\n",
              "</table>\n",
              "</div>\n",
              "</div>\n",
              "<div class=\"cas-output-area\"></div>\n",
              "<p class=\"cas-results-performance\"><small><span class=\"cas-elapsed\">elapsed 0.00892s</span> &#183; <span class=\"cas-user\">user 0.00517s</span> &#183; <span class=\"cas-sys\">sys 0.00582s</span> &#183; <span class=\"cas-memory\">mem 1.54MB</span></small></p>"
            ],
            "text/plain": [
              "[setinfo]\n",
              "\n",
              " Action set information\n",
              " \n",
              "          actionset                      label  loaded  extension   version  \\\n",
              " 0    accessControl            Access Controls       1     tkacon  3.05.000   \n",
              " 1    accessControl            Access Controls       1    casmeta  3.05.000   \n",
              " 2      aggregation                Aggregation       1   tkcasagg  3.05.000   \n",
              " 3         builtins                   Builtins       1  tkcasablt  3.05.000   \n",
              " 4    configuration          Server Properties       1   tkcascfg  3.05.000   \n",
              " 5   dataPreprocess            Data Preprocess       1    tktrans  3.05.000   \n",
              " 6         dataStep                  DATA Step       1   datastep  3.05.000   \n",
              " 7       percentile                 Percentile       1   tkcasptl  3.05.000   \n",
              " 8         sampling  Sampling and Partitioning       1  tkcassamp  3.05.000   \n",
              " 9           search                     Search       1     casidx  3.05.000   \n",
              " 10         session            Session Methods       1   tkcsessn  3.05.000   \n",
              " 11     sessionProp         Session Properties       1   tkcstate  3.05.000   \n",
              " 12          simple           Simple Analytics       1   tkimstat  3.05.000   \n",
              " 13           table                     Tables       1   tkcastab  3.05.000   \n",
              " \n",
              "     product_name user_defined  \n",
              " 0          tkcas        false  \n",
              " 1          tkcas        false  \n",
              " 2   crsaggregate        false  \n",
              " 3          tkcas        false  \n",
              " 4          tkcas        false  \n",
              " 5        crsstat        false  \n",
              " 6          tkcas        false  \n",
              " 7        crsstat        false  \n",
              " 8    crssampling        false  \n",
              " 9      crssearch        false  \n",
              " 10         tkcas        false  \n",
              " 11         tkcas        false  \n",
              " 12       crsstat        false  \n",
              " 13         tkcas        false  \n",
              "\n",
              "+ Elapsed: 0.00892s, user: 0.00517s, sys: 0.00582s, mem: 1.54mb"
            ]
          },
          "execution_count": 42,
          "metadata": {},
          "output_type": "execute_result"
        }
      ],
      "source": [
        "conn.actionsetinfo() # 패키지 리스트"
      ]
    },
    {
      "cell_type": "markdown",
      "metadata": {
        "id": "vZA8e67tfVTf"
      },
      "source": [
        "기타 라이브러리를 등록하기 위해선 SWAT으로 CAS 서베에 접근 후 import할 라이브러리들을 actionset으로 저장 한 뒤 CAS에 등록"
      ]
    },
    {
      "cell_type": "code",
      "execution_count": null,
      "metadata": {
        "id": "oCYSwdVyfVTg",
        "outputId": "7e58fab5-9431-4723-d745-bc0bc44735bb"
      },
      "outputs": [
        {
          "name": "stdout",
          "output_type": "stream",
          "text": [
            "NOTE: Information for action set 'simple':\n",
            "NOTE:    simple\n",
            "NOTE:       mdSummary - Calculates multidimensional summaries of numeric variables\n",
            "NOTE:       numRows - Shows the number of rows in a Cloud Analytic Services table\n",
            "NOTE:       summary - Generates descriptive statistics of numeric variables such as the sample mean, sample variance, sample size, sum of squares, and so on\n",
            "NOTE:       correlation - Computes Pearson product-moment correlations.\n",
            "NOTE:       regression - Performs a linear regression up to 3rd-order polynomials\n",
            "NOTE:       crossTab - Performs one-way or two-way tabulations\n",
            "NOTE:       distinct - Computes the distinct number of values of the variables in the variable list\n",
            "NOTE:       topK - Returns the top-K and bottom-K distinct values of each variable included in the variable list based on a user-specified ranking order\n",
            "NOTE:       groupBy - Builds BY groups in terms of the variable value combinations given the variables in the variable list\n",
            "NOTE:       freq - Generates a frequency distribution for one or more variables\n",
            "NOTE:       paraCoord - Generates a parallel coordinates plot of the variables in the variable list\n",
            "NOTE:       groupByInfo - Computes the index and frequency of each group, and the index of each record within its group\n",
            "NOTE:       compare - Compares two tables by computing the index and frequency of each group, cumulative frequency, and the index of each record within its group\n"
          ]
        },
        {
          "data": {
            "text/html": [
              "<div class=\"cas-results-key\"><b>&#167; simple</b></div>\n",
              "<div class=\"cas-results-body\">\n",
              "<div>\n",
              "<style scoped>\n",
              "    .dataframe tbody tr th:only-of-type {\n",
              "        vertical-align: middle;\n",
              "    }\n",
              "\n",
              "    .dataframe tbody tr th {\n",
              "        vertical-align: top;\n",
              "    }\n",
              "\n",
              "    .dataframe thead th {\n",
              "        text-align: right;\n",
              "    }\n",
              "</style>\n",
              "<table border=\"1\" class=\"dataframe\">\n",
              "  <thead>\n",
              "    <tr style=\"text-align: right;\">\n",
              "      <th title=\"\"></th>\n",
              "      <th title=\"Name\">name</th>\n",
              "      <th title=\"Description\">description</th>\n",
              "    </tr>\n",
              "  </thead>\n",
              "  <tbody>\n",
              "    <tr>\n",
              "      <td>0</td>\n",
              "      <td>mdSummary</td>\n",
              "      <td>Calculates multidimensional summaries of numer...</td>\n",
              "    </tr>\n",
              "    <tr>\n",
              "      <td>1</td>\n",
              "      <td>numRows</td>\n",
              "      <td>Shows the number of rows in a Cloud Analytic S...</td>\n",
              "    </tr>\n",
              "    <tr>\n",
              "      <td>2</td>\n",
              "      <td>summary</td>\n",
              "      <td>Generates descriptive statistics of numeric va...</td>\n",
              "    </tr>\n",
              "    <tr>\n",
              "      <td>3</td>\n",
              "      <td>correlation</td>\n",
              "      <td>Computes Pearson product-moment correlations.</td>\n",
              "    </tr>\n",
              "    <tr>\n",
              "      <td>4</td>\n",
              "      <td>regression</td>\n",
              "      <td>Performs a linear regression up to 3rd-order p...</td>\n",
              "    </tr>\n",
              "    <tr>\n",
              "      <td>5</td>\n",
              "      <td>crossTab</td>\n",
              "      <td>Performs one-way or two-way tabulations</td>\n",
              "    </tr>\n",
              "    <tr>\n",
              "      <td>6</td>\n",
              "      <td>distinct</td>\n",
              "      <td>Computes the distinct number of values of the ...</td>\n",
              "    </tr>\n",
              "    <tr>\n",
              "      <td>7</td>\n",
              "      <td>topK</td>\n",
              "      <td>Returns the top-K and bottom-K distinct values...</td>\n",
              "    </tr>\n",
              "    <tr>\n",
              "      <td>8</td>\n",
              "      <td>groupBy</td>\n",
              "      <td>Builds BY groups in terms of the variable valu...</td>\n",
              "    </tr>\n",
              "    <tr>\n",
              "      <td>9</td>\n",
              "      <td>freq</td>\n",
              "      <td>Generates a frequency distribution for one or ...</td>\n",
              "    </tr>\n",
              "    <tr>\n",
              "      <td>10</td>\n",
              "      <td>paraCoord</td>\n",
              "      <td>Generates a parallel coordinates plot of the v...</td>\n",
              "    </tr>\n",
              "    <tr>\n",
              "      <td>11</td>\n",
              "      <td>groupByInfo</td>\n",
              "      <td>Computes the index and frequency of each group...</td>\n",
              "    </tr>\n",
              "    <tr>\n",
              "      <td>12</td>\n",
              "      <td>compare</td>\n",
              "      <td>Compares two tables by computing the index and...</td>\n",
              "    </tr>\n",
              "  </tbody>\n",
              "</table>\n",
              "</div>\n",
              "</div>\n",
              "<div class=\"cas-output-area\"></div>\n",
              "<p class=\"cas-results-performance\"><small><span class=\"cas-elapsed\">elapsed 0.00871s</span> &#183; <span class=\"cas-user\">user 0.00165s</span> &#183; <span class=\"cas-sys\">sys 0.00579s</span> &#183; <span class=\"cas-memory\">mem 1.24MB</span></small></p>"
            ],
            "text/plain": [
              "[simple]\n",
              "\n",
              "            name                                        description\n",
              " 0     mdSummary  Calculates multidimensional summaries of numer...\n",
              " 1       numRows  Shows the number of rows in a Cloud Analytic S...\n",
              " 2       summary  Generates descriptive statistics of numeric va...\n",
              " 3   correlation      Computes Pearson product-moment correlations.\n",
              " 4    regression  Performs a linear regression up to 3rd-order p...\n",
              " 5      crossTab            Performs one-way or two-way tabulations\n",
              " 6      distinct  Computes the distinct number of values of the ...\n",
              " 7          topK  Returns the top-K and bottom-K distinct values...\n",
              " 8       groupBy  Builds BY groups in terms of the variable valu...\n",
              " 9          freq  Generates a frequency distribution for one or ...\n",
              " 10    paraCoord  Generates a parallel coordinates plot of the v...\n",
              " 11  groupByInfo  Computes the index and frequency of each group...\n",
              " 12      compare  Compares two tables by computing the index and...\n",
              "\n",
              "+ Elapsed: 0.00871s, user: 0.00165s, sys: 0.00579s, mem: 1.24mb"
            ]
          },
          "execution_count": 43,
          "metadata": {},
          "output_type": "execute_result"
        }
      ],
      "source": [
        "conn.help(actionset='simple')"
      ]
    },
    {
      "cell_type": "markdown",
      "metadata": {
        "id": "qXE3XEx8fVTg"
      },
      "source": [
        "tbl 은 cas에 등록된 테이블"
      ]
    },
    {
      "cell_type": "code",
      "execution_count": null,
      "metadata": {
        "id": "J6R5ON9tfVTg",
        "outputId": "fb7dc932-d7c3-4355-a9f6-12eb28339373"
      },
      "outputs": [
        {
          "data": {
            "text/plain": [
              "0       0.0\n",
              "1       0.0\n",
              "2       7.0\n",
              "3       0.0\n",
              "4     548.0\n",
              "5     570.0\n",
              "6     575.0\n",
              "7       0.0\n",
              "8       0.0\n",
              "9       0.0\n",
              "10      0.0\n",
              "11      0.0\n",
              "12    639.0\n",
              "13      0.0\n",
              "Name: NMiss, dtype: float64"
            ]
          },
          "execution_count": 46,
          "metadata": {},
          "output_type": "execute_result"
        }
      ],
      "source": [
        "tbl.summary()['Summary']['NMiss'] #Series 형태"
      ]
    },
    {
      "cell_type": "code",
      "execution_count": null,
      "metadata": {
        "id": "E92I5dj3fVTh",
        "outputId": "02bffb79-1f0d-4584-e9fd-fee359ca2f3d"
      },
      "outputs": [
        {
          "data": {
            "text/plain": [
              "pandas.core.series.Series"
            ]
          },
          "execution_count": 47,
          "metadata": {},
          "output_type": "execute_result"
        }
      ],
      "source": [
        "type(tbl.summary()['Summary']['NMiss'])"
      ]
    },
    {
      "cell_type": "markdown",
      "metadata": {
        "id": "Ik0q1evPfVTi"
      },
      "source": [
        "## CAS 서버내 괜찮은 패키지"
      ]
    },
    {
      "cell_type": "markdown",
      "source": [
        "### dataSciencePilot\n",
        "데이터 탐색 및 분석에 사용"
      ],
      "metadata": {
        "id": "Fe1iH1hkm9qX"
      }
    },
    {
      "cell_type": "code",
      "execution_count": null,
      "metadata": {
        "id": "d3CK-uwHfVTi",
        "outputId": "2c36632e-46cd-4f99-b8c3-df8a8771d01c"
      },
      "outputs": [
        {
          "name": "stdout",
          "output_type": "stream",
          "text": [
            "NOTE: Added action set 'dataSciencePilot'.\n"
          ]
        },
        {
          "data": {
            "text/html": [
              "<div class=\"cas-results-key\"><b>&#167; actionset</b></div>\n",
              "<div class=\"cas-results-body\">\n",
              "<div>dataSciencePilot</div>\n",
              "</div>\n",
              "<div class=\"cas-output-area\"></div>\n",
              "<p class=\"cas-results-performance\"><small><span class=\"cas-elapsed\">elapsed 0.0123s</span> &#183; <span class=\"cas-user\">user 0.00677s</span> &#183; <span class=\"cas-sys\">sys 0.00751s</span> &#183; <span class=\"cas-memory\">mem 0.866MB</span></small></p>"
            ],
            "text/plain": [
              "[actionset]\n",
              "\n",
              " 'dataSciencePilot'\n",
              "\n",
              "+ Elapsed: 0.0123s, user: 0.00677s, sys: 0.00751s, mem: 0.866mb"
            ]
          },
          "execution_count": 48,
          "metadata": {},
          "output_type": "execute_result"
        }
      ],
      "source": [
        "#dataSciencePilot\n",
        "\n",
        "conn.loadactionset('dataSciencePilot')"
      ]
    },
    {
      "cell_type": "code",
      "execution_count": null,
      "metadata": {
        "id": "_BhYjentfVTi",
        "outputId": "895438dc-3657-4b9a-e44e-19113336bc21"
      },
      "outputs": [
        {
          "name": "stdout",
          "output_type": "stream",
          "text": [
            "NOTE: Information for action set 'dataSciencePilot':\n",
            "NOTE:    dataSciencePilot\n",
            "NOTE:       exploreData - Exploration, automatic variable analysis and grouping using comprehensive statistical profiling of the variables.\n",
            "NOTE:       screenVariables - Screens noise variables and variables that need special transformations to be useful in the downstream analytics.\n",
            "NOTE:       analyzeMissingPatterns - Missing pattern analysis\n",
            "NOTE:       exploreCorrelation - Explore linear and nonlinear correlation among the variables.\n",
            "NOTE:       detectInteractions - Variable interaction detection and ranking\n",
            "NOTE:       generateShadowFeatures - Generate shadow features.\n",
            "NOTE:       featureMachine - Automated feature transformation and generation engine\n",
            "NOTE:       selectFeatures - Feature selection\n",
            "NOTE:       dsAutoMl - Automated machine learning pipeline exploration, execution and ranking.\n"
          ]
        },
        {
          "data": {
            "text/html": [
              "<div class=\"cas-results-key\"><b>&#167; dataSciencePilot</b></div>\n",
              "<div class=\"cas-results-body\">\n",
              "<div>\n",
              "<style scoped>\n",
              "    .dataframe tbody tr th:only-of-type {\n",
              "        vertical-align: middle;\n",
              "    }\n",
              "\n",
              "    .dataframe tbody tr th {\n",
              "        vertical-align: top;\n",
              "    }\n",
              "\n",
              "    .dataframe thead th {\n",
              "        text-align: right;\n",
              "    }\n",
              "</style>\n",
              "<table border=\"1\" class=\"dataframe\">\n",
              "  <thead>\n",
              "    <tr style=\"text-align: right;\">\n",
              "      <th title=\"\"></th>\n",
              "      <th title=\"Name\">name</th>\n",
              "      <th title=\"Description\">description</th>\n",
              "    </tr>\n",
              "  </thead>\n",
              "  <tbody>\n",
              "    <tr>\n",
              "      <td>0</td>\n",
              "      <td>exploreData</td>\n",
              "      <td>Exploration, automatic variable analysis and g...</td>\n",
              "    </tr>\n",
              "    <tr>\n",
              "      <td>1</td>\n",
              "      <td>screenVariables</td>\n",
              "      <td>Screens noise variables and variables that nee...</td>\n",
              "    </tr>\n",
              "    <tr>\n",
              "      <td>2</td>\n",
              "      <td>analyzeMissingPatterns</td>\n",
              "      <td>Missing pattern analysis</td>\n",
              "    </tr>\n",
              "    <tr>\n",
              "      <td>3</td>\n",
              "      <td>exploreCorrelation</td>\n",
              "      <td>Explore linear and nonlinear correlation among...</td>\n",
              "    </tr>\n",
              "    <tr>\n",
              "      <td>4</td>\n",
              "      <td>detectInteractions</td>\n",
              "      <td>Variable interaction detection and ranking</td>\n",
              "    </tr>\n",
              "    <tr>\n",
              "      <td>5</td>\n",
              "      <td>generateShadowFeatures</td>\n",
              "      <td>Generate shadow features.</td>\n",
              "    </tr>\n",
              "    <tr>\n",
              "      <td>6</td>\n",
              "      <td>featureMachine</td>\n",
              "      <td>Automated feature transformation and generatio...</td>\n",
              "    </tr>\n",
              "    <tr>\n",
              "      <td>7</td>\n",
              "      <td>selectFeatures</td>\n",
              "      <td>Feature selection</td>\n",
              "    </tr>\n",
              "    <tr>\n",
              "      <td>8</td>\n",
              "      <td>dsAutoMl</td>\n",
              "      <td>Automated machine learning pipeline exploratio...</td>\n",
              "    </tr>\n",
              "  </tbody>\n",
              "</table>\n",
              "</div>\n",
              "</div>\n",
              "<div class=\"cas-output-area\"></div>\n",
              "<p class=\"cas-results-performance\"><small><span class=\"cas-elapsed\">elapsed 0.00832s</span> &#183; <span class=\"cas-user\">user 0.00238s</span> &#183; <span class=\"cas-sys\">sys 0.00432s</span> &#183; <span class=\"cas-memory\">mem 1.22MB</span></small></p>"
            ],
            "text/plain": [
              "[dataSciencePilot]\n",
              "\n",
              "                      name                                        description\n",
              " 0             exploreData  Exploration, automatic variable analysis and g...\n",
              " 1         screenVariables  Screens noise variables and variables that nee...\n",
              " 2  analyzeMissingPatterns                           Missing pattern analysis\n",
              " 3      exploreCorrelation  Explore linear and nonlinear correlation among...\n",
              " 4      detectInteractions         Variable interaction detection and ranking\n",
              " 5  generateShadowFeatures                          Generate shadow features.\n",
              " 6          featureMachine  Automated feature transformation and generatio...\n",
              " 7          selectFeatures                                  Feature selection\n",
              " 8                dsAutoMl  Automated machine learning pipeline exploratio...\n",
              "\n",
              "+ Elapsed: 0.00832s, user: 0.00238s, sys: 0.00432s, mem: 1.22mb"
            ]
          },
          "execution_count": 49,
          "metadata": {},
          "output_type": "execute_result"
        }
      ],
      "source": [
        "conn.help(actionset='dataSciencePilot')"
      ]
    },
    {
      "cell_type": "code",
      "execution_count": null,
      "metadata": {
        "id": "5GhsnyZmfVTi",
        "outputId": "5f5dd2dc-9c1b-4565-c1dc-9a31bd2fb195"
      },
      "outputs": [
        {
          "name": "stdout",
          "output_type": "stream",
          "text": [
            "ERROR: Parameter 'casOut' is required but was not specified.\n",
            "ERROR: The action stopped due to errors.\n"
          ]
        },
        {
          "data": {
            "text/html": [
              "<div class=\"cas-output-area\"></div>\n",
              "<p class=\"cas-results-performance\"><small><span class=\"cas-elapsed\">elapsed 0.000119s</span> &#183; <span class=\"cas-user\">user 1.03s</span> &#183; <span class=\"cas-sys\">sys 0.912s</span></small></p>"
            ],
            "text/plain": [
              "+ Elapsed: 0.000119s, user: 1.03s, sys: 0.912s"
            ]
          },
          "execution_count": 51,
          "metadata": {},
          "output_type": "execute_result"
        }
      ],
      "source": [
        "tbl.exploreData() # casOut으로 데이터 지정 필요"
      ]
    },
    {
      "cell_type": "code",
      "execution_count": null,
      "metadata": {
        "id": "ekfd8UzVfVTj",
        "outputId": "5163c363-b5a0-4844-8d6b-492ad86de517"
      },
      "outputs": [
        {
          "data": {
            "text/html": [
              "<div class=\"cas-results-key\"><b>&#167; OutputCasTables</b></div>\n",
              "<div class=\"cas-results-body\">\n",
              "<div>\n",
              "<style scoped>\n",
              "    .dataframe tbody tr th:only-of-type {\n",
              "        vertical-align: middle;\n",
              "    }\n",
              "\n",
              "    .dataframe tbody tr th {\n",
              "        vertical-align: top;\n",
              "    }\n",
              "\n",
              "    .dataframe thead th {\n",
              "        text-align: right;\n",
              "    }\n",
              "</style>\n",
              "<table border=\"1\" class=\"dataframe\">\n",
              "  <thead>\n",
              "    <tr style=\"text-align: right;\">\n",
              "      <th title=\"\"></th>\n",
              "      <th title=\"CAS Library\">casLib</th>\n",
              "      <th title=\"Name\">Name</th>\n",
              "      <th title=\"Number of Rows\">Rows</th>\n",
              "      <th title=\"Number of Columns\">Columns</th>\n",
              "      <th title=\"Table\">casTable</th>\n",
              "    </tr>\n",
              "  </thead>\n",
              "  <tbody>\n",
              "    <tr>\n",
              "      <td>0</td>\n",
              "      <td>CASUSERHDFS(viyademo01)</td>\n",
              "      <td>tbl_explore</td>\n",
              "      <td>23</td>\n",
              "      <td>42</td>\n",
              "      <td>CASTable('tbl_explore', caslib='CASUSERHDFS(vi...</td>\n",
              "    </tr>\n",
              "  </tbody>\n",
              "</table>\n",
              "</div>\n",
              "</div>\n",
              "<div class=\"cas-output-area\"></div>\n",
              "<p class=\"cas-results-performance\"><small><span class=\"cas-elapsed\">elapsed 0.526s</span> &#183; <span class=\"cas-user\">user 0.346s</span> &#183; <span class=\"cas-sys\">sys 0.356s</span> &#183; <span class=\"cas-memory\">mem 31.7MB</span></small></p>"
            ],
            "text/plain": [
              "[OutputCasTables]\n",
              "\n",
              "                     casLib         Name  Rows  Columns  \\\n",
              " 0  CASUSERHDFS(viyademo01)  tbl_explore    23       42   \n",
              " \n",
              "                                             casTable  \n",
              " 0  CASTable('tbl_explore', caslib='CASUSERHDFS(vi...  \n",
              "\n",
              "+ Elapsed: 0.526s, user: 0.346s, sys: 0.356s, mem: 31.7mb"
            ]
          },
          "execution_count": 52,
          "metadata": {},
          "output_type": "execute_result"
        }
      ],
      "source": [
        "tbl.exploreData(\n",
        "    casOut = {'name':'tbl_explore', 'replace'=True} # 테이블이 있으면 에러가 뜰수도 있어서 True 적음\n",
        ")"
      ]
    },
    {
      "cell_type": "code",
      "execution_count": null,
      "metadata": {
        "id": "t8CBGWLtfVTj",
        "outputId": "186bd2a1-7876-48b6-dbea-2f40b9a23141"
      },
      "outputs": [
        {
          "data": {
            "text/html": [
              "<div>\n",
              "<style scoped>\n",
              "    .dataframe tbody tr th:only-of-type {\n",
              "        vertical-align: middle;\n",
              "    }\n",
              "\n",
              "    .dataframe tbody tr th {\n",
              "        vertical-align: top;\n",
              "    }\n",
              "\n",
              "    .dataframe thead th {\n",
              "        text-align: right;\n",
              "    }\n",
              "</style>\n",
              "<table border=\"1\" class=\"dataframe\"><caption>Selected Rows from Table TBL_EXPLORE</caption>\n",
              "  <thead>\n",
              "    <tr style=\"text-align: right;\">\n",
              "      <th title=\"\"></th>\n",
              "      <th title=\"Variable\">Variable</th>\n",
              "      <th title=\"VarType\">VarType</th>\n",
              "      <th title=\"MissingRated\">MissingRated</th>\n",
              "      <th title=\"CardinalityRated\">CardinalityRated</th>\n",
              "      <th title=\"EntropyRated\">EntropyRated</th>\n",
              "      <th title=\"IQVRated\">IQVRated</th>\n",
              "      <th title=\"CVRated\">CVRated</th>\n",
              "      <th title=\"SkewnessRated\">SkewnessRated</th>\n",
              "      <th title=\"KurtosisRated\">KurtosisRated</th>\n",
              "      <th title=\"OutlierRated\">OutlierRated</th>\n",
              "      <th title=\"...\">...</th>\n",
              "      <th title=\"MomentCVPer\">MomentCVPer</th>\n",
              "      <th title=\"RobustCVPer\">RobustCVPer</th>\n",
              "      <th title=\"MomentSkewness\">MomentSkewness</th>\n",
              "      <th title=\"RobustSkewness\">RobustSkewness</th>\n",
              "      <th title=\"MomentKurtosis\">MomentKurtosis</th>\n",
              "      <th title=\"RobustKurtosis\">RobustKurtosis</th>\n",
              "      <th title=\"LowerOutlierMomentPer\">LowerOutlierMomentPer</th>\n",
              "      <th title=\"UpperOutlierMomentPer\">UpperOutlierMomentPer</th>\n",
              "      <th title=\"LowerOutlierRobustPer\">LowerOutlierRobustPer</th>\n",
              "      <th title=\"UpperOutlierRobustPer\">UpperOutlierRobustPer</th>\n",
              "    </tr>\n",
              "  </thead>\n",
              "  <tbody>\n",
              "    <tr>\n",
              "      <td>0</td>\n",
              "      <td>status</td>\n",
              "      <td>character-nominal</td>\n",
              "      <td>1.0</td>\n",
              "      <td>1.0</td>\n",
              "      <td>3.0</td>\n",
              "      <td>NaN</td>\n",
              "      <td>NaN</td>\n",
              "      <td>NaN</td>\n",
              "      <td>NaN</td>\n",
              "      <td>NaN</td>\n",
              "      <td>...</td>\n",
              "      <td>NaN</td>\n",
              "      <td>NaN</td>\n",
              "      <td>NaN</td>\n",
              "      <td>NaN</td>\n",
              "      <td>NaN</td>\n",
              "      <td>NaN</td>\n",
              "      <td>NaN</td>\n",
              "      <td>NaN</td>\n",
              "      <td>NaN</td>\n",
              "      <td>NaN</td>\n",
              "    </tr>\n",
              "    <tr>\n",
              "      <td>1</td>\n",
              "      <td>gender</td>\n",
              "      <td>character-nominal</td>\n",
              "      <td>1.0</td>\n",
              "      <td>1.0</td>\n",
              "      <td>3.0</td>\n",
              "      <td>NaN</td>\n",
              "      <td>NaN</td>\n",
              "      <td>NaN</td>\n",
              "      <td>NaN</td>\n",
              "      <td>NaN</td>\n",
              "      <td>...</td>\n",
              "      <td>NaN</td>\n",
              "      <td>NaN</td>\n",
              "      <td>NaN</td>\n",
              "      <td>NaN</td>\n",
              "      <td>NaN</td>\n",
              "      <td>NaN</td>\n",
              "      <td>NaN</td>\n",
              "      <td>NaN</td>\n",
              "      <td>NaN</td>\n",
              "      <td>NaN</td>\n",
              "    </tr>\n",
              "    <tr>\n",
              "      <td>2</td>\n",
              "      <td>edu_level</td>\n",
              "      <td>character-nominal</td>\n",
              "      <td>1.0</td>\n",
              "      <td>1.0</td>\n",
              "      <td>3.0</td>\n",
              "      <td>3.0</td>\n",
              "      <td>NaN</td>\n",
              "      <td>NaN</td>\n",
              "      <td>NaN</td>\n",
              "      <td>NaN</td>\n",
              "      <td>...</td>\n",
              "      <td>NaN</td>\n",
              "      <td>NaN</td>\n",
              "      <td>NaN</td>\n",
              "      <td>NaN</td>\n",
              "      <td>NaN</td>\n",
              "      <td>NaN</td>\n",
              "      <td>NaN</td>\n",
              "      <td>NaN</td>\n",
              "      <td>NaN</td>\n",
              "      <td>NaN</td>\n",
              "    </tr>\n",
              "    <tr>\n",
              "      <td>3</td>\n",
              "      <td>job</td>\n",
              "      <td>character-nominal</td>\n",
              "      <td>2.0</td>\n",
              "      <td>1.0</td>\n",
              "      <td>3.0</td>\n",
              "      <td>3.0</td>\n",
              "      <td>NaN</td>\n",
              "      <td>NaN</td>\n",
              "      <td>NaN</td>\n",
              "      <td>NaN</td>\n",
              "      <td>...</td>\n",
              "      <td>NaN</td>\n",
              "      <td>NaN</td>\n",
              "      <td>NaN</td>\n",
              "      <td>NaN</td>\n",
              "      <td>NaN</td>\n",
              "      <td>NaN</td>\n",
              "      <td>NaN</td>\n",
              "      <td>NaN</td>\n",
              "      <td>NaN</td>\n",
              "      <td>NaN</td>\n",
              "    </tr>\n",
              "    <tr>\n",
              "      <td>4</td>\n",
              "      <td>car_use</td>\n",
              "      <td>character-nominal</td>\n",
              "      <td>1.0</td>\n",
              "      <td>1.0</td>\n",
              "      <td>3.0</td>\n",
              "      <td>NaN</td>\n",
              "      <td>NaN</td>\n",
              "      <td>NaN</td>\n",
              "      <td>NaN</td>\n",
              "      <td>NaN</td>\n",
              "      <td>...</td>\n",
              "      <td>NaN</td>\n",
              "      <td>NaN</td>\n",
              "      <td>NaN</td>\n",
              "      <td>NaN</td>\n",
              "      <td>NaN</td>\n",
              "      <td>NaN</td>\n",
              "      <td>NaN</td>\n",
              "      <td>NaN</td>\n",
              "      <td>NaN</td>\n",
              "      <td>NaN</td>\n",
              "    </tr>\n",
              "  </tbody>\n",
              "</table>\n",
              "<p>5 rows × 42 columns</p>\n",
              "</div>"
            ],
            "text/plain": [
              "Selected Rows from Table TBL_EXPLORE\n",
              "\n",
              "    Variable            VarType  MissingRated  CardinalityRated  EntropyRated  \\\n",
              "0     status  character-nominal           1.0               1.0           3.0   \n",
              "1     gender  character-nominal           1.0               1.0           3.0   \n",
              "2  edu_level  character-nominal           1.0               1.0           3.0   \n",
              "3        job  character-nominal           2.0               1.0           3.0   \n",
              "4    car_use  character-nominal           1.0               1.0           3.0   \n",
              "\n",
              "   IQVRated  CVRated  SkewnessRated  KurtosisRated  OutlierRated  ...  \\\n",
              "0       NaN      NaN            NaN            NaN           NaN  ...   \n",
              "1       NaN      NaN            NaN            NaN           NaN  ...   \n",
              "2       3.0      NaN            NaN            NaN           NaN  ...   \n",
              "3       3.0      NaN            NaN            NaN           NaN  ...   \n",
              "4       NaN      NaN            NaN            NaN           NaN  ...   \n",
              "\n",
              "   MomentCVPer  RobustCVPer  MomentSkewness  RobustSkewness  MomentKurtosis  \\\n",
              "0          NaN          NaN             NaN             NaN             NaN   \n",
              "1          NaN          NaN             NaN             NaN             NaN   \n",
              "2          NaN          NaN             NaN             NaN             NaN   \n",
              "3          NaN          NaN             NaN             NaN             NaN   \n",
              "4          NaN          NaN             NaN             NaN             NaN   \n",
              "\n",
              "   RobustKurtosis  LowerOutlierMomentPer  UpperOutlierMomentPer  \\\n",
              "0             NaN                    NaN                    NaN   \n",
              "1             NaN                    NaN                    NaN   \n",
              "2             NaN                    NaN                    NaN   \n",
              "3             NaN                    NaN                    NaN   \n",
              "4             NaN                    NaN                    NaN   \n",
              "\n",
              "   LowerOutlierRobustPer  UpperOutlierRobustPer  \n",
              "0                    NaN                    NaN  \n",
              "1                    NaN                    NaN  \n",
              "2                    NaN                    NaN  \n",
              "3                    NaN                    NaN  \n",
              "4                    NaN                    NaN  \n",
              "\n",
              "[5 rows x 42 columns]"
            ]
          },
          "execution_count": 53,
          "metadata": {},
          "output_type": "execute_result"
        }
      ],
      "source": [
        "conn.CASTable('tbl_explore').head()"
      ]
    },
    {
      "cell_type": "markdown",
      "metadata": {
        "id": "8k6WWomafVTj"
      },
      "source": [
        "MissingRated (심각도) - missing value\n",
        "페이지에서 기준을 define 하여 사용할 수 있음\n",
        "\n",
        "위 정보에서는 적절하면 1, MISSING이 심하면 3"
      ]
    },
    {
      "cell_type": "markdown",
      "source": [
        "### sampling\n",
        "샘플링에 사용하는 라이브러리"
      ],
      "metadata": {
        "id": "XmfjONrxn0KL"
      }
    },
    {
      "cell_type": "code",
      "execution_count": null,
      "metadata": {
        "id": "STznDf0ifVTk",
        "outputId": "4194bb7e-48c6-42d2-e2e3-3b0ffef769b7"
      },
      "outputs": [
        {
          "name": "stdout",
          "output_type": "stream",
          "text": [
            "NOTE: Added action set 'sampling'.\n"
          ]
        },
        {
          "data": {
            "text/html": [
              "<div class=\"cas-results-key\"><b>&#167; actionset</b></div>\n",
              "<div class=\"cas-results-body\">\n",
              "<div>sampling</div>\n",
              "</div>\n",
              "<div class=\"cas-output-area\"></div>\n",
              "<p class=\"cas-results-performance\"><small><span class=\"cas-elapsed\">elapsed 0.00786s</span> &#183; <span class=\"cas-user\">user 0.0032s</span> &#183; <span class=\"cas-sys\">sys 0.0032s</span> &#183; <span class=\"cas-memory\">mem 0.815MB</span></small></p>"
            ],
            "text/plain": [
              "[actionset]\n",
              "\n",
              " 'sampling'\n",
              "\n",
              "+ Elapsed: 0.00786s, user: 0.0032s, sys: 0.0032s, mem: 0.815mb"
            ]
          },
          "execution_count": 56,
          "metadata": {},
          "output_type": "execute_result"
        }
      ],
      "source": [
        "conn.loadactionset('sampling')"
      ]
    },
    {
      "cell_type": "code",
      "execution_count": null,
      "metadata": {
        "id": "pMs_U0ONfVTk",
        "outputId": "ea2a2f7e-a184-4e07-d871-fd0b447ef114"
      },
      "outputs": [
        {
          "name": "stdout",
          "output_type": "stream",
          "text": [
            "ERROR: Parameter 'table' is required but was not specified.\n",
            "ERROR: The action stopped due to errors.\n"
          ]
        },
        {
          "data": {
            "text/html": [
              "<div class=\"cas-output-area\"></div>\n",
              "<p class=\"cas-results-performance\"><small><span class=\"cas-elapsed\">elapsed 0.000127s</span> &#183; <span class=\"cas-user\">user 1.24s</span> &#183; <span class=\"cas-sys\">sys 1.1s</span></small></p>"
            ],
            "text/plain": [
              "+ Elapsed: 0.000127s, user: 1.24s, sys: 1.1s"
            ]
          },
          "execution_count": 57,
          "metadata": {},
          "output_type": "execute_result"
        }
      ],
      "source": [
        "conn.sampling.stratified()"
      ]
    },
    {
      "cell_type": "code",
      "execution_count": null,
      "metadata": {
        "id": "DvcGjNGkfVTl"
      },
      "outputs": [],
      "source": [
        "target='claim_ind'"
      ]
    },
    {
      "cell_type": "code",
      "execution_count": null,
      "metadata": {
        "id": "vTV65XABfVTl",
        "outputId": "b66f47f6-0d26-4375-acb1-71a9cdd099a4"
      },
      "outputs": [
        {
          "name": "stdout",
          "output_type": "stream",
          "text": [
            "NOTE: Stratified sampling is in effect.\n",
            "NOTE: Using SEED=284305653 for sampling.\n"
          ]
        },
        {
          "data": {
            "text/html": [
              "<div class=\"cas-results-key\"><b>&#167; OutputCasTables</b></div>\n",
              "<div class=\"cas-results-body\">\n",
              "<div>\n",
              "<style scoped>\n",
              "    .dataframe tbody tr th:only-of-type {\n",
              "        vertical-align: middle;\n",
              "    }\n",
              "\n",
              "    .dataframe tbody tr th {\n",
              "        vertical-align: top;\n",
              "    }\n",
              "\n",
              "    .dataframe thead th {\n",
              "        text-align: right;\n",
              "    }\n",
              "</style>\n",
              "<table border=\"1\" class=\"dataframe\">\n",
              "  <thead>\n",
              "    <tr style=\"text-align: right;\">\n",
              "      <th title=\"\"></th>\n",
              "      <th title=\"CAS Library\">casLib</th>\n",
              "      <th title=\"Name\">Name</th>\n",
              "      <th title=\"Label\">Label</th>\n",
              "      <th title=\"Number of Rows\">Rows</th>\n",
              "      <th title=\"Number of Columns\">Columns</th>\n",
              "      <th title=\"Table\">casTable</th>\n",
              "    </tr>\n",
              "  </thead>\n",
              "  <tbody>\n",
              "    <tr>\n",
              "      <td>0</td>\n",
              "      <td>CASUSERHDFS(viyademo01)</td>\n",
              "      <td>claim_part</td>\n",
              "      <td></td>\n",
              "      <td>10300</td>\n",
              "      <td>24</td>\n",
              "      <td>CASTable('claim_part', caslib='CASUSERHDFS(viy...</td>\n",
              "    </tr>\n",
              "  </tbody>\n",
              "</table>\n",
              "</div>\n",
              "</div>\n",
              "<div class=\"cas-results-key\"><hr/><b>&#167; STRAFreq</b></div>\n",
              "<div class=\"cas-results-body\">\n",
              "<div>\n",
              "<style scoped>\n",
              "    .dataframe tbody tr th:only-of-type {\n",
              "        vertical-align: middle;\n",
              "    }\n",
              "\n",
              "    .dataframe tbody tr th {\n",
              "        vertical-align: top;\n",
              "    }\n",
              "\n",
              "    .dataframe thead th {\n",
              "        text-align: right;\n",
              "    }\n",
              "</style>\n",
              "<table border=\"1\" class=\"dataframe\"><caption>Frequencies</caption>\n",
              "  <thead>\n",
              "    <tr style=\"text-align: right;\">\n",
              "      <th title=\"\"></th>\n",
              "      <th title=\"Index\">ByGrpID</th>\n",
              "      <th title=\"claim_ind\">claim_ind</th>\n",
              "      <th title=\"Number of Obs\">NObs</th>\n",
              "      <th title=\"Number of Samples\">NSamp</th>\n",
              "    </tr>\n",
              "  </thead>\n",
              "  <tbody>\n",
              "    <tr>\n",
              "      <td>0</td>\n",
              "      <td>0</td>\n",
              "      <td>0</td>\n",
              "      <td>7554</td>\n",
              "      <td>5288</td>\n",
              "    </tr>\n",
              "    <tr>\n",
              "      <td>1</td>\n",
              "      <td>1</td>\n",
              "      <td>1</td>\n",
              "      <td>2746</td>\n",
              "      <td>1922</td>\n",
              "    </tr>\n",
              "  </tbody>\n",
              "</table>\n",
              "</div>\n",
              "</div>\n",
              "<div class=\"cas-output-area\"></div>\n",
              "<p class=\"cas-results-performance\"><small><span class=\"cas-elapsed\">elapsed 0.113s</span> &#183; <span class=\"cas-user\">user 0.104s</span> &#183; <span class=\"cas-sys\">sys 0.137s</span> &#183; <span class=\"cas-memory\">mem 299MB</span></small></p>"
            ],
            "text/plain": [
              "[OutputCasTables]\n",
              "\n",
              "                     casLib        Name Label   Rows  Columns  \\\n",
              " 0  CASUSERHDFS(viyademo01)  claim_part        10300       24   \n",
              " \n",
              "                                             casTable  \n",
              " 0  CASTable('claim_part', caslib='CASUSERHDFS(viy...  \n",
              "\n",
              "[STRAFreq]\n",
              "\n",
              " Frequencies\n",
              " \n",
              "    ByGrpID     claim_ind  NObs  NSamp\n",
              " 0        0             0  7554   5288\n",
              " 1        1             1  2746   1922\n",
              "\n",
              "+ Elapsed: 0.113s, user: 0.104s, sys: 0.137s, mem: 299mb"
            ]
          },
          "execution_count": 68,
          "metadata": {},
          "output_type": "execute_result"
        }
      ],
      "source": [
        "conn.sampling.stratified(\n",
        "    table = {'name':'claim','groupby':target}, # 샘플링에 사용할 테이블\n",
        "    \n",
        "    samppct = 70, # 추출 비율\n",
        "    \n",
        "    partind = True, # 선택된 데이터의 flag\n",
        "    \n",
        "    output={'casout': {'name':'claim_part','replace':True}, 'copyvars':'all'}\n",
        ")\n",
        "#claim_part 데이터 생성"
      ]
    },
    {
      "cell_type": "code",
      "execution_count": null,
      "metadata": {
        "id": "l5EKcDgWfVTm",
        "outputId": "4a690653-6c07-4f9a-8547-a30cc77d9d03"
      },
      "outputs": [
        {
          "data": {
            "text/html": [
              "<div>\n",
              "<style scoped>\n",
              "    .dataframe tbody tr th:only-of-type {\n",
              "        vertical-align: middle;\n",
              "    }\n",
              "\n",
              "    .dataframe tbody tr th {\n",
              "        vertical-align: top;\n",
              "    }\n",
              "\n",
              "    .dataframe thead th {\n",
              "        text-align: right;\n",
              "    }\n",
              "</style>\n",
              "<table border=\"1\" class=\"dataframe\"><caption>Selected Rows from Table CLAIM_PART</caption>\n",
              "  <thead>\n",
              "    <tr style=\"text-align: right;\">\n",
              "      <th title=\"\"></th>\n",
              "      <th title=\"id\">id</th>\n",
              "      <th title=\"child_driv\">child_driv</th>\n",
              "      <th title=\"age\">age</th>\n",
              "      <th title=\"children\">children</th>\n",
              "      <th title=\"yoj\">yoj</th>\n",
              "      <th title=\"income\">income</th>\n",
              "      <th title=\"house_val\">house_val</th>\n",
              "      <th title=\"status\">status</th>\n",
              "      <th title=\"gender\">gender</th>\n",
              "      <th title=\"edu_level\">edu_level</th>\n",
              "      <th title=\"...\">...</th>\n",
              "      <th title=\"vehicle_type\">vehicle_type</th>\n",
              "      <th title=\"clm_freq\">clm_freq</th>\n",
              "      <th title=\"revoked\">revoked</th>\n",
              "      <th title=\"mvr_pts\">mvr_pts</th>\n",
              "      <th title=\"claim_amount\">claim_amount</th>\n",
              "      <th title=\"vehicle_age\">vehicle_age</th>\n",
              "      <th title=\"claim_ind\">claim_ind</th>\n",
              "      <th title=\"area\">area</th>\n",
              "      <th title=\"state_code\">state_code</th>\n",
              "      <th title=\"Partition Indicator\">_PartInd_</th>\n",
              "    </tr>\n",
              "  </thead>\n",
              "  <tbody>\n",
              "    <tr>\n",
              "      <td>0</td>\n",
              "      <td>6.921625e+09</td>\n",
              "      <td>0.0</td>\n",
              "      <td>67.0</td>\n",
              "      <td>0.0</td>\n",
              "      <td>14.0</td>\n",
              "      <td>53841.0</td>\n",
              "      <td>359229.0</td>\n",
              "      <td>z_No</td>\n",
              "      <td>Mal</td>\n",
              "      <td>Bachelors</td>\n",
              "      <td>...</td>\n",
              "      <td>Family</td>\n",
              "      <td>0.0</td>\n",
              "      <td>No</td>\n",
              "      <td>2.0</td>\n",
              "      <td>294.0</td>\n",
              "      <td>12.0</td>\n",
              "      <td>0.0</td>\n",
              "      <td>Highly Urban/ Urban</td>\n",
              "      <td>Berlin</td>\n",
              "      <td>1.0</td>\n",
              "    </tr>\n",
              "    <tr>\n",
              "      <td>1</td>\n",
              "      <td>1.227899e+09</td>\n",
              "      <td>0.0</td>\n",
              "      <td>26.0</td>\n",
              "      <td>1.0</td>\n",
              "      <td>13.0</td>\n",
              "      <td>16999.0</td>\n",
              "      <td>265527.0</td>\n",
              "      <td></td>\n",
              "      <td>Fem</td>\n",
              "      <td>z_High School</td>\n",
              "      <td>...</td>\n",
              "      <td>unknown</td>\n",
              "      <td>4.0</td>\n",
              "      <td>No</td>\n",
              "      <td>7.0</td>\n",
              "      <td>292.0</td>\n",
              "      <td>12.0</td>\n",
              "      <td>0.0</td>\n",
              "      <td>Highly Urban/ Urban</td>\n",
              "      <td>Thueringen</td>\n",
              "      <td>1.0</td>\n",
              "    </tr>\n",
              "    <tr>\n",
              "      <td>2</td>\n",
              "      <td>1.950524e+09</td>\n",
              "      <td>0.0</td>\n",
              "      <td>71.0</td>\n",
              "      <td>0.0</td>\n",
              "      <td>17.0</td>\n",
              "      <td>NaN</td>\n",
              "      <td>323918.0</td>\n",
              "      <td>Yes</td>\n",
              "      <td>Mal</td>\n",
              "      <td>&lt;High School</td>\n",
              "      <td>...</td>\n",
              "      <td>Minivan</td>\n",
              "      <td>0.0</td>\n",
              "      <td>No</td>\n",
              "      <td>0.0</td>\n",
              "      <td>387.0</td>\n",
              "      <td>8.0</td>\n",
              "      <td>0.0</td>\n",
              "      <td>Highly Urban/ Urban</td>\n",
              "      <td>Bayern</td>\n",
              "      <td>0.0</td>\n",
              "    </tr>\n",
              "    <tr>\n",
              "      <td>3</td>\n",
              "      <td>1.743448e+09</td>\n",
              "      <td>0.0</td>\n",
              "      <td>68.0</td>\n",
              "      <td>0.0</td>\n",
              "      <td>NaN</td>\n",
              "      <td>115546.0</td>\n",
              "      <td>361705.0</td>\n",
              "      <td>Yes</td>\n",
              "      <td>Fem</td>\n",
              "      <td>PhD</td>\n",
              "      <td>...</td>\n",
              "      <td>unknown</td>\n",
              "      <td>4.0</td>\n",
              "      <td>Yes</td>\n",
              "      <td>3.0</td>\n",
              "      <td>308.0</td>\n",
              "      <td>19.0</td>\n",
              "      <td>0.0</td>\n",
              "      <td>Highly Urban/ Urban</td>\n",
              "      <td>Bayern</td>\n",
              "      <td>1.0</td>\n",
              "    </tr>\n",
              "    <tr>\n",
              "      <td>4</td>\n",
              "      <td>7.371333e+09</td>\n",
              "      <td>0.0</td>\n",
              "      <td>32.0</td>\n",
              "      <td>1.0</td>\n",
              "      <td>15.0</td>\n",
              "      <td>125861.0</td>\n",
              "      <td>70668.0</td>\n",
              "      <td>z_No</td>\n",
              "      <td>Fem</td>\n",
              "      <td>Bachelors</td>\n",
              "      <td>...</td>\n",
              "      <td>Sports Car</td>\n",
              "      <td>0.0</td>\n",
              "      <td>No</td>\n",
              "      <td>0.0</td>\n",
              "      <td>3221.0</td>\n",
              "      <td>9.0</td>\n",
              "      <td>1.0</td>\n",
              "      <td>Highly Urban/ Urban</td>\n",
              "      <td>Bayern</td>\n",
              "      <td>1.0</td>\n",
              "    </tr>\n",
              "  </tbody>\n",
              "</table>\n",
              "<p>5 rows × 24 columns</p>\n",
              "</div>"
            ],
            "text/plain": [
              "Selected Rows from Table CLAIM_PART\n",
              "\n",
              "             id  child_driv   age  children   yoj    income  house_val status  \\\n",
              "0  6.921625e+09         0.0  67.0       0.0  14.0   53841.0   359229.0   z_No   \n",
              "1  1.227899e+09         0.0  26.0       1.0  13.0   16999.0   265527.0          \n",
              "2  1.950524e+09         0.0  71.0       0.0  17.0       NaN   323918.0    Yes   \n",
              "3  1.743448e+09         0.0  68.0       0.0   NaN  115546.0   361705.0    Yes   \n",
              "4  7.371333e+09         0.0  32.0       1.0  15.0  125861.0    70668.0   z_No   \n",
              "\n",
              "  gender      edu_level  ... vehicle_type  clm_freq revoked  mvr_pts  \\\n",
              "0    Mal      Bachelors  ...       Family       0.0      No      2.0   \n",
              "1    Fem  z_High School  ...      unknown       4.0      No      7.0   \n",
              "2    Mal   <High School  ...      Minivan       0.0      No      0.0   \n",
              "3    Fem            PhD  ...      unknown       4.0     Yes      3.0   \n",
              "4    Fem      Bachelors  ...   Sports Car       0.0      No      0.0   \n",
              "\n",
              "  claim_amount  vehicle_age claim_ind                 area  state_code  \\\n",
              "0        294.0         12.0       0.0  Highly Urban/ Urban      Berlin   \n",
              "1        292.0         12.0       0.0  Highly Urban/ Urban  Thueringen   \n",
              "2        387.0          8.0       0.0  Highly Urban/ Urban      Bayern   \n",
              "3        308.0         19.0       0.0  Highly Urban/ Urban      Bayern   \n",
              "4       3221.0          9.0       1.0  Highly Urban/ Urban      Bayern   \n",
              "\n",
              "   _PartInd_  \n",
              "0        1.0  \n",
              "1        1.0  \n",
              "2        0.0  \n",
              "3        1.0  \n",
              "4        1.0  \n",
              "\n",
              "[5 rows x 24 columns]"
            ]
          },
          "execution_count": 70,
          "metadata": {},
          "output_type": "execute_result"
        }
      ],
      "source": [
        "conn.CASTable('claim_part').head()"
      ]
    },
    {
      "cell_type": "code",
      "execution_count": null,
      "metadata": {
        "id": "ApUlXiI2fVTn",
        "outputId": "b523724b-04ea-4d5c-dfeb-d5efc1e11d5a"
      },
      "outputs": [
        {
          "data": {
            "text/plain": [
              "1.0    7210\n",
              "0.0    3090\n",
              "dtype: int64"
            ]
          },
          "execution_count": 71,
          "metadata": {},
          "output_type": "execute_result"
        }
      ],
      "source": [
        "conn.CASTable('claim_part')['_PartInd_'].value_counts()"
      ]
    },
    {
      "cell_type": "markdown",
      "source": [
        "1일 때 train set, 0일 때 test set"
      ],
      "metadata": {
        "id": "2t8o5Uq5oUyJ"
      }
    },
    {
      "cell_type": "code",
      "execution_count": null,
      "metadata": {
        "id": "sujTn2f5fVTn",
        "outputId": "250ee2c2-adf2-4b38-bc3e-5fe1234a2ea1"
      },
      "outputs": [
        {
          "data": {
            "text/plain": [
              "CASTable('claim_part', where='_PartInd_ = 1')"
            ]
          },
          "execution_count": 73,
          "metadata": {},
          "output_type": "execute_result"
        }
      ],
      "source": [
        "train = conn.CASTable('claim_part', where = '_PartInd_ = 1')\n",
        "train"
      ]
    },
    {
      "cell_type": "markdown",
      "source": [
        "범주형 자료를 원핫인코딩 등 처리 하고자 할 때 CAS내 라이브러리로 전처리 작업시 범주형 자료를 알아서 일괄 인코딩하기 때문에 직접 전처리할 변수들을 사전 제거"
      ],
      "metadata": {
        "id": "Kns3MTCzqM73"
      }
    },
    {
      "cell_type": "code",
      "execution_count": null,
      "metadata": {
        "id": "tBXNrFoFfVTn"
      },
      "outputs": [],
      "source": [
        "xvars = [x for x in train.columns.tolist() if x not in ['id', 'y', 'claim_amount', '_PartInd_']]"
      ]
    },
    {
      "cell_type": "code",
      "execution_count": null,
      "metadata": {
        "id": "B-RCO7DjfVTo",
        "outputId": "dbc160d4-7926-420e-b957-924bc8e298ff"
      },
      "outputs": [
        {
          "data": {
            "text/plain": [
              "['status',\n",
              " 'gender',\n",
              " 'edu_level',\n",
              " 'job',\n",
              " 'car_use',\n",
              " 'vehicle_type',\n",
              " 'revoked',\n",
              " 'area',\n",
              " 'state_code']"
            ]
          },
          "execution_count": 82,
          "metadata": {},
          "output_type": "execute_result"
        }
      ],
      "source": [
        "[x for x in train.select_dtypes('varchar').columns.tolist() if x not in ['id', 'y', 'claim_amount', '_PartInd_']]"
      ]
    },
    {
      "cell_type": "code",
      "execution_count": null,
      "metadata": {
        "id": "kCvDptjofVTo"
      },
      "outputs": [],
      "source": [
        "classvars = [x for x in train.select_dtypes('varchar').columns.tolist() if x not in ['id', 'y', 'claim_amount', '_PartInd_']]"
      ]
    },
    {
      "cell_type": "code",
      "execution_count": null,
      "metadata": {
        "id": "Y8d3r5gKfVTo"
      },
      "outputs": [],
      "source": [
        "classvars = classvars + [target]"
      ]
    },
    {
      "cell_type": "code",
      "execution_count": null,
      "metadata": {
        "id": "su95hxd9fVTo",
        "outputId": "0cbce214-c38b-4bae-f378-cd81be237a70"
      },
      "outputs": [
        {
          "data": {
            "text/plain": [
              "['status',\n",
              " 'gender',\n",
              " 'edu_level',\n",
              " 'job',\n",
              " 'car_use',\n",
              " 'vehicle_type',\n",
              " 'revoked',\n",
              " 'area',\n",
              " 'state_code',\n",
              " 'claim_ind']"
            ]
          },
          "execution_count": 85,
          "metadata": {},
          "output_type": "execute_result"
        }
      ],
      "source": [
        "classvars"
      ]
    },
    {
      "cell_type": "markdown",
      "source": [
        "###dataPreprocess\n",
        "\n",
        "결측치 처리"
      ],
      "metadata": {
        "id": "7Opdz9XGosD5"
      }
    },
    {
      "cell_type": "code",
      "execution_count": null,
      "metadata": {
        "id": "XuWjRWu5fVTp",
        "outputId": "6a47bc08-1d03-4448-da40-e6faf8d76dc0"
      },
      "outputs": [
        {
          "name": "stdout",
          "output_type": "stream",
          "text": [
            "NOTE: Added action set 'dataPreprocess'.\n"
          ]
        },
        {
          "data": {
            "text/html": [
              "<div class=\"cas-results-key\"><b>&#167; actionset</b></div>\n",
              "<div class=\"cas-results-body\">\n",
              "<div>dataPreprocess</div>\n",
              "</div>\n",
              "<div class=\"cas-output-area\"></div>\n",
              "<p class=\"cas-results-performance\"><small><span class=\"cas-elapsed\">elapsed 0.0079s</span> &#183; <span class=\"cas-user\">user 0.000905s</span> &#183; <span class=\"cas-sys\">sys 0.00549s</span> &#183; <span class=\"cas-memory\">mem 0.814MB</span></small></p>"
            ],
            "text/plain": [
              "[actionset]\n",
              "\n",
              " 'dataPreprocess'\n",
              "\n",
              "+ Elapsed: 0.0079s, user: 0.000905s, sys: 0.00549s, mem: 0.814mb"
            ]
          },
          "execution_count": 87,
          "metadata": {},
          "output_type": "execute_result"
        }
      ],
      "source": [
        "#결측값 처리 루틴\n",
        "conn.loadactionset('dataPreprocess')"
      ]
    },
    {
      "cell_type": "code",
      "execution_count": null,
      "metadata": {
        "id": "nr6OLN5JfVTp",
        "outputId": "8e2e539e-9443-4ca1-d886-783e6adb6fb0"
      },
      "outputs": [
        {
          "data": {
            "text/html": [
              "<div class=\"cas-results-key\"><b>&#167; ImputeInfo</b></div>\n",
              "<div class=\"cas-results-body\">\n",
              "<div>\n",
              "<style scoped>\n",
              "    .dataframe tbody tr th:only-of-type {\n",
              "        vertical-align: middle;\n",
              "    }\n",
              "\n",
              "    .dataframe tbody tr th {\n",
              "        vertical-align: top;\n",
              "    }\n",
              "\n",
              "    .dataframe thead th {\n",
              "        text-align: right;\n",
              "    }\n",
              "</style>\n",
              "<table border=\"1\" class=\"dataframe\"><caption>Imputation Information for CLAIM</caption>\n",
              "  <thead>\n",
              "    <tr style=\"text-align: right;\">\n",
              "      <th title=\"\"></th>\n",
              "      <th title=\"Variable\">Variable</th>\n",
              "      <th title=\"Imputation Technique\">ImputeTech</th>\n",
              "      <th title=\"Result Variable\">ResultVar</th>\n",
              "      <th title=\"Number of Observations\">N</th>\n",
              "      <th title=\"Number of Missing\">NMiss</th>\n",
              "      <th title=\"Imputed Value\">ImputedValueContinuous</th>\n",
              "    </tr>\n",
              "  </thead>\n",
              "  <tbody>\n",
              "    <tr>\n",
              "      <td>0</td>\n",
              "      <td>id</td>\n",
              "      <td>Mean</td>\n",
              "      <td>IMP_id</td>\n",
              "      <td>10300.0</td>\n",
              "      <td>0.0</td>\n",
              "      <td>4.537007e+09</td>\n",
              "    </tr>\n",
              "    <tr>\n",
              "      <td>1</td>\n",
              "      <td>child_driv</td>\n",
              "      <td>Mean</td>\n",
              "      <td>IMP_child_driv</td>\n",
              "      <td>10300.0</td>\n",
              "      <td>0.0</td>\n",
              "      <td>1.700000e-01</td>\n",
              "    </tr>\n",
              "    <tr>\n",
              "      <td>2</td>\n",
              "      <td>age</td>\n",
              "      <td>Mean</td>\n",
              "      <td>IMP_age</td>\n",
              "      <td>10293.0</td>\n",
              "      <td>7.0</td>\n",
              "      <td>5.379792e+01</td>\n",
              "    </tr>\n",
              "    <tr>\n",
              "      <td>3</td>\n",
              "      <td>children</td>\n",
              "      <td>Mean</td>\n",
              "      <td>IMP_children</td>\n",
              "      <td>10300.0</td>\n",
              "      <td>0.0</td>\n",
              "      <td>7.209709e-01</td>\n",
              "    </tr>\n",
              "    <tr>\n",
              "      <td>4</td>\n",
              "      <td>yoj</td>\n",
              "      <td>Mean</td>\n",
              "      <td>IMP_yoj</td>\n",
              "      <td>9752.0</td>\n",
              "      <td>548.0</td>\n",
              "      <td>1.347395e+01</td>\n",
              "    </tr>\n",
              "    <tr>\n",
              "      <td>5</td>\n",
              "      <td>income</td>\n",
              "      <td>Mean</td>\n",
              "      <td>IMP_income</td>\n",
              "      <td>9730.0</td>\n",
              "      <td>570.0</td>\n",
              "      <td>6.243657e+04</td>\n",
              "    </tr>\n",
              "    <tr>\n",
              "      <td>6</td>\n",
              "      <td>house_val</td>\n",
              "      <td>Mean</td>\n",
              "      <td>IMP_house_val</td>\n",
              "      <td>9725.0</td>\n",
              "      <td>575.0</td>\n",
              "      <td>4.168986e+05</td>\n",
              "    </tr>\n",
              "    <tr>\n",
              "      <td>7</td>\n",
              "      <td>distance</td>\n",
              "      <td>Mean</td>\n",
              "      <td>IMP_distance</td>\n",
              "      <td>10300.0</td>\n",
              "      <td>0.0</td>\n",
              "      <td>7.841942e+01</td>\n",
              "    </tr>\n",
              "    <tr>\n",
              "      <td>8</td>\n",
              "      <td>vehicle_val</td>\n",
              "      <td>Mean</td>\n",
              "      <td>IMP_vehicle_val</td>\n",
              "      <td>10300.0</td>\n",
              "      <td>0.0</td>\n",
              "      <td>1.566013e+04</td>\n",
              "    </tr>\n",
              "    <tr>\n",
              "      <td>9</td>\n",
              "      <td>clm_freq</td>\n",
              "      <td>Mean</td>\n",
              "      <td>IMP_clm_freq</td>\n",
              "      <td>10300.0</td>\n",
              "      <td>0.0</td>\n",
              "      <td>1.808641e+00</td>\n",
              "    </tr>\n",
              "    <tr>\n",
              "      <td>10</td>\n",
              "      <td>mvr_pts</td>\n",
              "      <td>Mean</td>\n",
              "      <td>IMP_mvr_pts</td>\n",
              "      <td>10300.0</td>\n",
              "      <td>0.0</td>\n",
              "      <td>3.202621e+00</td>\n",
              "    </tr>\n",
              "    <tr>\n",
              "      <td>11</td>\n",
              "      <td>claim_amount</td>\n",
              "      <td>Mean</td>\n",
              "      <td>IMP_claim_amount</td>\n",
              "      <td>10300.0</td>\n",
              "      <td>0.0</td>\n",
              "      <td>1.810643e+03</td>\n",
              "    </tr>\n",
              "    <tr>\n",
              "      <td>12</td>\n",
              "      <td>vehicle_age</td>\n",
              "      <td>Mean</td>\n",
              "      <td>IMP_vehicle_age</td>\n",
              "      <td>9661.0</td>\n",
              "      <td>639.0</td>\n",
              "      <td>1.029790e+01</td>\n",
              "    </tr>\n",
              "    <tr>\n",
              "      <td>13</td>\n",
              "      <td>claim_ind</td>\n",
              "      <td>Mean</td>\n",
              "      <td>IMP_claim_ind</td>\n",
              "      <td>10300.0</td>\n",
              "      <td>0.0</td>\n",
              "      <td>2.666019e-01</td>\n",
              "    </tr>\n",
              "  </tbody>\n",
              "</table>\n",
              "</div>\n",
              "</div>\n",
              "<div class=\"cas-output-area\"></div>\n",
              "<p class=\"cas-results-performance\"><small><span class=\"cas-elapsed\">elapsed 0.0648s</span> &#183; <span class=\"cas-user\">user 0.0447s</span> &#183; <span class=\"cas-sys\">sys 0.0459s</span> &#183; <span class=\"cas-memory\">mem 15MB</span></small></p>"
            ],
            "text/plain": [
              "[ImputeInfo]\n",
              "\n",
              " Imputation Information for CLAIM\n",
              " \n",
              "         Variable ImputeTech         ResultVar        N  NMiss  \\\n",
              " 0             id       Mean            IMP_id  10300.0    0.0   \n",
              " 1     child_driv       Mean    IMP_child_driv  10300.0    0.0   \n",
              " 2            age       Mean           IMP_age  10293.0    7.0   \n",
              " 3       children       Mean      IMP_children  10300.0    0.0   \n",
              " 4            yoj       Mean           IMP_yoj   9752.0  548.0   \n",
              " 5         income       Mean        IMP_income   9730.0  570.0   \n",
              " 6      house_val       Mean     IMP_house_val   9725.0  575.0   \n",
              " 7       distance       Mean      IMP_distance  10300.0    0.0   \n",
              " 8    vehicle_val       Mean   IMP_vehicle_val  10300.0    0.0   \n",
              " 9       clm_freq       Mean      IMP_clm_freq  10300.0    0.0   \n",
              " 10       mvr_pts       Mean       IMP_mvr_pts  10300.0    0.0   \n",
              " 11  claim_amount       Mean  IMP_claim_amount  10300.0    0.0   \n",
              " 12   vehicle_age       Mean   IMP_vehicle_age   9661.0  639.0   \n",
              " 13     claim_ind       Mean     IMP_claim_ind  10300.0    0.0   \n",
              " \n",
              "     ImputedValueContinuous  \n",
              " 0             4.537007e+09  \n",
              " 1             1.700000e-01  \n",
              " 2             5.379792e+01  \n",
              " 3             7.209709e-01  \n",
              " 4             1.347395e+01  \n",
              " 5             6.243657e+04  \n",
              " 6             4.168986e+05  \n",
              " 7             7.841942e+01  \n",
              " 8             1.566013e+04  \n",
              " 9             1.808641e+00  \n",
              " 10            3.202621e+00  \n",
              " 11            1.810643e+03  \n",
              " 12            1.029790e+01  \n",
              " 13            2.666019e-01  \n",
              "\n",
              "+ Elapsed: 0.0648s, user: 0.0447s, sys: 0.0459s, mem: 15mb"
            ]
          },
          "execution_count": 89,
          "metadata": {},
          "output_type": "execute_result"
        }
      ],
      "source": [
        "tbl.dataPreprocess.impute() # 평균값으로 일괄 missing value 처리"
      ]
    },
    {
      "cell_type": "code",
      "execution_count": null,
      "metadata": {
        "id": "8vN6DIWpfVTp",
        "outputId": "ed94f046-0f52-44b8-e71a-a4c3060823a9"
      },
      "outputs": [
        {
          "data": {
            "text/html": [
              "<div class=\"cas-results-key\"><b>&#167; ImputeInfo</b></div>\n",
              "<div class=\"cas-results-body\">\n",
              "<div>\n",
              "<style scoped>\n",
              "    .dataframe tbody tr th:only-of-type {\n",
              "        vertical-align: middle;\n",
              "    }\n",
              "\n",
              "    .dataframe tbody tr th {\n",
              "        vertical-align: top;\n",
              "    }\n",
              "\n",
              "    .dataframe thead th {\n",
              "        text-align: right;\n",
              "    }\n",
              "</style>\n",
              "<table border=\"1\" class=\"dataframe\"><caption>Imputation Information for CLAIM</caption>\n",
              "  <thead>\n",
              "    <tr style=\"text-align: right;\">\n",
              "      <th title=\"\"></th>\n",
              "      <th title=\"Variable\">Variable</th>\n",
              "      <th title=\"Imputation Technique\">ImputeTech</th>\n",
              "      <th title=\"Result Variable\">ResultVar</th>\n",
              "      <th title=\"Number of Observations\">N</th>\n",
              "      <th title=\"Number of Missing\">NMiss</th>\n",
              "      <th title=\"Imputed Value\">ImputedValueContinuous</th>\n",
              "      <th title=\"Imputed Value\">ImputedValueNominal</th>\n",
              "    </tr>\n",
              "  </thead>\n",
              "  <tbody>\n",
              "    <tr>\n",
              "      <td>0</td>\n",
              "      <td>child_driv</td>\n",
              "      <td>Mean</td>\n",
              "      <td>IMP_child_driv</td>\n",
              "      <td>10300.0</td>\n",
              "      <td>0.0</td>\n",
              "      <td>0.170000</td>\n",
              "      <td></td>\n",
              "    </tr>\n",
              "    <tr>\n",
              "      <td>1</td>\n",
              "      <td>age</td>\n",
              "      <td>Mean</td>\n",
              "      <td>IMP_age</td>\n",
              "      <td>10293.0</td>\n",
              "      <td>7.0</td>\n",
              "      <td>53.797921</td>\n",
              "      <td></td>\n",
              "    </tr>\n",
              "    <tr>\n",
              "      <td>2</td>\n",
              "      <td>children</td>\n",
              "      <td>Mean</td>\n",
              "      <td>IMP_children</td>\n",
              "      <td>10300.0</td>\n",
              "      <td>0.0</td>\n",
              "      <td>0.720971</td>\n",
              "      <td></td>\n",
              "    </tr>\n",
              "    <tr>\n",
              "      <td>3</td>\n",
              "      <td>yoj</td>\n",
              "      <td>Mean</td>\n",
              "      <td>IMP_yoj</td>\n",
              "      <td>9752.0</td>\n",
              "      <td>548.0</td>\n",
              "      <td>13.473954</td>\n",
              "      <td></td>\n",
              "    </tr>\n",
              "    <tr>\n",
              "      <td>4</td>\n",
              "      <td>income</td>\n",
              "      <td>Mean</td>\n",
              "      <td>IMP_income</td>\n",
              "      <td>9730.0</td>\n",
              "      <td>570.0</td>\n",
              "      <td>62436.569270</td>\n",
              "      <td></td>\n",
              "    </tr>\n",
              "    <tr>\n",
              "      <td>5</td>\n",
              "      <td>house_val</td>\n",
              "      <td>Mean</td>\n",
              "      <td>IMP_house_val</td>\n",
              "      <td>9725.0</td>\n",
              "      <td>575.0</td>\n",
              "      <td>416898.584679</td>\n",
              "      <td></td>\n",
              "    </tr>\n",
              "    <tr>\n",
              "      <td>6</td>\n",
              "      <td>status</td>\n",
              "      <td>Mode</td>\n",
              "      <td>IMP_status</td>\n",
              "      <td>10298.0</td>\n",
              "      <td>2.0</td>\n",
              "      <td>NaN</td>\n",
              "      <td>Yes</td>\n",
              "    </tr>\n",
              "    <tr>\n",
              "      <td>7</td>\n",
              "      <td>gender</td>\n",
              "      <td>Mode</td>\n",
              "      <td>IMP_gender</td>\n",
              "      <td>10300.0</td>\n",
              "      <td>0.0</td>\n",
              "      <td>NaN</td>\n",
              "      <td>Fem</td>\n",
              "    </tr>\n",
              "    <tr>\n",
              "      <td>8</td>\n",
              "      <td>edu_level</td>\n",
              "      <td>Mode</td>\n",
              "      <td>IMP_edu_level</td>\n",
              "      <td>10300.0</td>\n",
              "      <td>0.0</td>\n",
              "      <td>NaN</td>\n",
              "      <td>z_High School</td>\n",
              "    </tr>\n",
              "    <tr>\n",
              "      <td>9</td>\n",
              "      <td>job</td>\n",
              "      <td>Mode</td>\n",
              "      <td>IMP_job</td>\n",
              "      <td>9635.0</td>\n",
              "      <td>665.0</td>\n",
              "      <td>NaN</td>\n",
              "      <td>Teacher</td>\n",
              "    </tr>\n",
              "    <tr>\n",
              "      <td>10</td>\n",
              "      <td>distance</td>\n",
              "      <td>Mean</td>\n",
              "      <td>IMP_distance</td>\n",
              "      <td>10300.0</td>\n",
              "      <td>0.0</td>\n",
              "      <td>78.419417</td>\n",
              "      <td></td>\n",
              "    </tr>\n",
              "    <tr>\n",
              "      <td>11</td>\n",
              "      <td>car_use</td>\n",
              "      <td>Mode</td>\n",
              "      <td>IMP_car_use</td>\n",
              "      <td>10300.0</td>\n",
              "      <td>0.0</td>\n",
              "      <td>NaN</td>\n",
              "      <td>Private</td>\n",
              "    </tr>\n",
              "    <tr>\n",
              "      <td>12</td>\n",
              "      <td>vehicle_val</td>\n",
              "      <td>Mean</td>\n",
              "      <td>IMP_vehicle_val</td>\n",
              "      <td>10300.0</td>\n",
              "      <td>0.0</td>\n",
              "      <td>15660.132039</td>\n",
              "      <td></td>\n",
              "    </tr>\n",
              "    <tr>\n",
              "      <td>13</td>\n",
              "      <td>vehicle_type</td>\n",
              "      <td>Mode</td>\n",
              "      <td>IMP_vehicle_type</td>\n",
              "      <td>10300.0</td>\n",
              "      <td>0.0</td>\n",
              "      <td>NaN</td>\n",
              "      <td>unknown</td>\n",
              "    </tr>\n",
              "    <tr>\n",
              "      <td>14</td>\n",
              "      <td>clm_freq</td>\n",
              "      <td>Mean</td>\n",
              "      <td>IMP_clm_freq</td>\n",
              "      <td>10300.0</td>\n",
              "      <td>0.0</td>\n",
              "      <td>1.808641</td>\n",
              "      <td></td>\n",
              "    </tr>\n",
              "    <tr>\n",
              "      <td>15</td>\n",
              "      <td>revoked</td>\n",
              "      <td>Mode</td>\n",
              "      <td>IMP_revoked</td>\n",
              "      <td>10300.0</td>\n",
              "      <td>0.0</td>\n",
              "      <td>NaN</td>\n",
              "      <td>No</td>\n",
              "    </tr>\n",
              "    <tr>\n",
              "      <td>16</td>\n",
              "      <td>mvr_pts</td>\n",
              "      <td>Mean</td>\n",
              "      <td>IMP_mvr_pts</td>\n",
              "      <td>10300.0</td>\n",
              "      <td>0.0</td>\n",
              "      <td>3.202621</td>\n",
              "      <td></td>\n",
              "    </tr>\n",
              "    <tr>\n",
              "      <td>17</td>\n",
              "      <td>vehicle_age</td>\n",
              "      <td>Mean</td>\n",
              "      <td>IMP_vehicle_age</td>\n",
              "      <td>9661.0</td>\n",
              "      <td>639.0</td>\n",
              "      <td>10.297899</td>\n",
              "      <td></td>\n",
              "    </tr>\n",
              "    <tr>\n",
              "      <td>18</td>\n",
              "      <td>claim_ind</td>\n",
              "      <td>Mean</td>\n",
              "      <td>IMP_claim_ind</td>\n",
              "      <td>10300.0</td>\n",
              "      <td>0.0</td>\n",
              "      <td>0.266602</td>\n",
              "      <td></td>\n",
              "    </tr>\n",
              "    <tr>\n",
              "      <td>19</td>\n",
              "      <td>area</td>\n",
              "      <td>Mode</td>\n",
              "      <td>IMP_area</td>\n",
              "      <td>10300.0</td>\n",
              "      <td>0.0</td>\n",
              "      <td>NaN</td>\n",
              "      <td>Highly Urban/ Urban</td>\n",
              "    </tr>\n",
              "    <tr>\n",
              "      <td>20</td>\n",
              "      <td>state_code</td>\n",
              "      <td>Mode</td>\n",
              "      <td>IMP_state_code</td>\n",
              "      <td>10300.0</td>\n",
              "      <td>0.0</td>\n",
              "      <td>NaN</td>\n",
              "      <td>Bayern</td>\n",
              "    </tr>\n",
              "  </tbody>\n",
              "</table>\n",
              "</div>\n",
              "</div>\n",
              "<div class=\"cas-results-key\"><hr/><b>&#167; OutputCasTables</b></div>\n",
              "<div class=\"cas-results-body\">\n",
              "<div>\n",
              "<style scoped>\n",
              "    .dataframe tbody tr th:only-of-type {\n",
              "        vertical-align: middle;\n",
              "    }\n",
              "\n",
              "    .dataframe tbody tr th {\n",
              "        vertical-align: top;\n",
              "    }\n",
              "\n",
              "    .dataframe thead th {\n",
              "        text-align: right;\n",
              "    }\n",
              "</style>\n",
              "<table border=\"1\" class=\"dataframe\">\n",
              "  <thead>\n",
              "    <tr style=\"text-align: right;\">\n",
              "      <th title=\"\"></th>\n",
              "      <th title=\"CAS Library\">casLib</th>\n",
              "      <th title=\"Name\">Name</th>\n",
              "      <th title=\"Number of Rows\">Rows</th>\n",
              "      <th title=\"Number of Columns\">Columns</th>\n",
              "      <th title=\"Table\">casTable</th>\n",
              "    </tr>\n",
              "  </thead>\n",
              "  <tbody>\n",
              "    <tr>\n",
              "      <td>0</td>\n",
              "      <td>CASUSERHDFS(viyademo01)</td>\n",
              "      <td>train_impute_out</td>\n",
              "      <td>10300</td>\n",
              "      <td>22</td>\n",
              "      <td>CASTable('train_impute_out', caslib='CASUSERHD...</td>\n",
              "    </tr>\n",
              "    <tr>\n",
              "      <td>1</td>\n",
              "      <td>CASUSERHDFS(viyademo01)</td>\n",
              "      <td>train_impute_out</td>\n",
              "      <td>1</td>\n",
              "      <td>10</td>\n",
              "      <td>CASTable('train_impute_out', caslib='CASUSERHD...</td>\n",
              "    </tr>\n",
              "  </tbody>\n",
              "</table>\n",
              "</div>\n",
              "</div>\n",
              "<div class=\"cas-output-area\"></div>\n",
              "<p class=\"cas-results-performance\"><small><span class=\"cas-elapsed\">elapsed 0.152s</span> &#183; <span class=\"cas-user\">user 0.125s</span> &#183; <span class=\"cas-sys\">sys 0.0986s</span> &#183; <span class=\"cas-memory\">mem 3.74MB</span></small></p>"
            ],
            "text/plain": [
              "[ImputeInfo]\n",
              "\n",
              " Imputation Information for CLAIM\n",
              " \n",
              "         Variable ImputeTech         ResultVar        N  NMiss  \\\n",
              " 0     child_driv       Mean    IMP_child_driv  10300.0    0.0   \n",
              " 1            age       Mean           IMP_age  10293.0    7.0   \n",
              " 2       children       Mean      IMP_children  10300.0    0.0   \n",
              " 3            yoj       Mean           IMP_yoj   9752.0  548.0   \n",
              " 4         income       Mean        IMP_income   9730.0  570.0   \n",
              " 5      house_val       Mean     IMP_house_val   9725.0  575.0   \n",
              " 6         status       Mode        IMP_status  10298.0    2.0   \n",
              " 7         gender       Mode        IMP_gender  10300.0    0.0   \n",
              " 8      edu_level       Mode     IMP_edu_level  10300.0    0.0   \n",
              " 9            job       Mode           IMP_job   9635.0  665.0   \n",
              " 10      distance       Mean      IMP_distance  10300.0    0.0   \n",
              " 11       car_use       Mode       IMP_car_use  10300.0    0.0   \n",
              " 12   vehicle_val       Mean   IMP_vehicle_val  10300.0    0.0   \n",
              " 13  vehicle_type       Mode  IMP_vehicle_type  10300.0    0.0   \n",
              " 14      clm_freq       Mean      IMP_clm_freq  10300.0    0.0   \n",
              " 15       revoked       Mode       IMP_revoked  10300.0    0.0   \n",
              " 16       mvr_pts       Mean       IMP_mvr_pts  10300.0    0.0   \n",
              " 17   vehicle_age       Mean   IMP_vehicle_age   9661.0  639.0   \n",
              " 18     claim_ind       Mean     IMP_claim_ind  10300.0    0.0   \n",
              " 19          area       Mode          IMP_area  10300.0    0.0   \n",
              " 20    state_code       Mode    IMP_state_code  10300.0    0.0   \n",
              " \n",
              "     ImputedValueContinuous  ImputedValueNominal  \n",
              " 0                 0.170000                       \n",
              " 1                53.797921                       \n",
              " 2                 0.720971                       \n",
              " 3                13.473954                       \n",
              " 4             62436.569270                       \n",
              " 5            416898.584679                       \n",
              " 6                      NaN                  Yes  \n",
              " 7                      NaN                  Fem  \n",
              " 8                      NaN        z_High School  \n",
              " 9                      NaN              Teacher  \n",
              " 10               78.419417                       \n",
              " 11                     NaN              Private  \n",
              " 12            15660.132039                       \n",
              " 13                     NaN              unknown  \n",
              " 14                1.808641                       \n",
              " 15                     NaN                   No  \n",
              " 16                3.202621                       \n",
              " 17               10.297899                       \n",
              " 18                0.266602                       \n",
              " 19                     NaN  Highly Urban/ Urban  \n",
              " 20                     NaN               Bayern  \n",
              "\n",
              "[OutputCasTables]\n",
              "\n",
              "                     casLib              Name   Rows  Columns  \\\n",
              " 0  CASUSERHDFS(viyademo01)  train_impute_out  10300       22   \n",
              " 1  CASUSERHDFS(viyademo01)  train_impute_out      1       10   \n",
              " \n",
              "                                             casTable  \n",
              " 0  CASTable('train_impute_out', caslib='CASUSERHD...  \n",
              " 1  CASTable('train_impute_out', caslib='CASUSERHD...  \n",
              "\n",
              "+ Elapsed: 0.152s, user: 0.125s, sys: 0.0986s, mem: 3.74mb"
            ]
          },
          "execution_count": 90,
          "metadata": {},
          "output_type": "execute_result"
        }
      ],
      "source": [
        "tbl.dataPreprocess.impute(\n",
        "    \n",
        "    methodinterval ='mean', #연속형일때\n",
        "    methodnominal='mode', #범주형일때\n",
        "    \n",
        "    inputs= xvars, # impute 지정 변수\n",
        "    \n",
        "    casout={'name':'train_impute_out', 'replace':True},\n",
        "    copyvars=target, #target도 처리\n",
        "    \n",
        "    code = {'casout': {'name':'train_impute_out','replace':True}}\n",
        ") \n",
        "\n",
        "#ImputedValueContinuous ImputedValueNominal :  어떤값으로 대체되었는지"
      ]
    },
    {
      "cell_type": "code",
      "execution_count": null,
      "metadata": {
        "id": "l5rF_l9OfVTq",
        "outputId": "abfb3afc-cb0a-458f-ca86-3cab6df0717e"
      },
      "outputs": [
        {
          "data": {
            "text/html": [
              "<div>\n",
              "<style scoped>\n",
              "    .dataframe tbody tr th:only-of-type {\n",
              "        vertical-align: middle;\n",
              "    }\n",
              "\n",
              "    .dataframe tbody tr th {\n",
              "        vertical-align: top;\n",
              "    }\n",
              "\n",
              "    .dataframe thead th {\n",
              "        text-align: right;\n",
              "    }\n",
              "</style>\n",
              "<table border=\"1\" class=\"dataframe\"><caption>Selected Rows from Table TRAIN_IMPUTE_OUT</caption>\n",
              "  <thead>\n",
              "    <tr style=\"text-align: right;\">\n",
              "      <th title=\"\"></th>\n",
              "      <th title=\"ModelName\">ModelName</th>\n",
              "      <th title=\"DataStepSrc\">DataStepSrc</th>\n",
              "      <th title=\"DS2Src\">DS2Src</th>\n",
              "      <th title=\"FormatXML\">FormatXML</th>\n",
              "      <th title=\"FormatItemStore\">FormatItemStore</th>\n",
              "      <th title=\"VarXML\">VarXML</th>\n",
              "      <th title=\"AStore\">AStore</th>\n",
              "      <th title=\"AStoreKey\">AStoreKey</th>\n",
              "      <th title=\"ModelUUID\">ModelUUID</th>\n",
              "      <th title=\"Notes\">Notes</th>\n",
              "    </tr>\n",
              "  </thead>\n",
              "  <tbody>\n",
              "    <tr>\n",
              "      <td>0</td>\n",
              "      <td></td>\n",
              "      <td>_ngbys_ = 1;\\n   _igby_ = 0;\\n   _tnn_ntran...</td>\n",
              "      <td></td>\n",
              "      <td></td>\n",
              "      <td></td>\n",
              "      <td></td>\n",
              "      <td></td>\n",
              "      <td></td>\n",
              "      <td></td>\n",
              "      <td></td>\n",
              "    </tr>\n",
              "  </tbody>\n",
              "</table>\n",
              "</div>"
            ],
            "text/plain": [
              "Selected Rows from Table TRAIN_IMPUTE_OUT\n",
              "\n",
              "  ModelName                                        DataStepSrc DS2Src  \\\n",
              "0               _ngbys_ = 1;\\n   _igby_ = 0;\\n   _tnn_ntran...          \n",
              "\n",
              "  FormatXML FormatItemStore VarXML AStore AStoreKey ModelUUID Notes  \n",
              "0                                                                    "
            ]
          },
          "execution_count": 92,
          "metadata": {},
          "output_type": "execute_result"
        }
      ],
      "source": [
        "conn.CASTable('train_impute_out').head(99)"
      ]
    },
    {
      "cell_type": "markdown",
      "metadata": {
        "id": "t56S2rAyfVTq"
      },
      "source": [
        "단순한 데이터들은 코드베이스로 저장"
      ]
    }
  ],
  "metadata": {
    "kernelspec": {
      "display_name": "Python 3",
      "language": "python",
      "name": "python3"
    },
    "language_info": {
      "codemirror_mode": {
        "name": "ipython",
        "version": 3
      },
      "file_extension": ".py",
      "mimetype": "text/x-python",
      "name": "python",
      "nbconvert_exporter": "python",
      "pygments_lexer": "ipython3",
      "version": "3.7.4"
    },
    "colab": {
      "provenance": [],
      "collapsed_sections": []
    }
  },
  "nbformat": 4,
  "nbformat_minor": 0
}